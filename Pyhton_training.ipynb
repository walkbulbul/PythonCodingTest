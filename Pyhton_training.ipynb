{
  "nbformat": 4,
  "nbformat_minor": 0,
  "metadata": {
    "colab": {
      "name": "Pyhton_training.ipynb",
      "provenance": [],
      "authorship_tag": "ABX9TyMdZ426CCJqkgzVn0lKim/P",
      "include_colab_link": true
    },
    "kernelspec": {
      "name": "python3",
      "display_name": "Python 3"
    }
  },
  "cells": [
    {
      "cell_type": "markdown",
      "metadata": {
        "id": "view-in-github",
        "colab_type": "text"
      },
      "source": [
        "<a href=\"https://colab.research.google.com/github/walkbulbul/walkbulbul/blob/main/Pyhton_training.ipynb\" target=\"_parent\"><img src=\"https://colab.research.google.com/assets/colab-badge.svg\" alt=\"Open In Colab\"/></a>"
      ]
    },
    {
      "cell_type": "code",
      "metadata": {
        "id": "UEK9WTdApOrI"
      },
      "source": [
        "import numpy as np\n"
      ],
      "execution_count": null,
      "outputs": []
    },
    {
      "cell_type": "code",
      "source": [
        ""
      ],
      "metadata": {
        "id": "RolsrzpTJVfP"
      },
      "execution_count": null,
      "outputs": []
    },
    {
      "cell_type": "code",
      "metadata": {
        "id": "5hjOUrcSqUSB"
      },
      "source": [
        "a = np.array([1,2])\n",
        "b = np.array([3,4])"
      ],
      "execution_count": null,
      "outputs": []
    },
    {
      "cell_type": "code",
      "metadata": {
        "colab": {
          "base_uri": "https://localhost:8080/"
        },
        "id": "oby3pdHfqenE",
        "outputId": "e8ccf678-5a24-4360-8105-6c561b7462b8"
      },
      "source": [
        "dot = 0\n",
        "for e,f in zip(a,b):\n",
        "  dot += e*f\n",
        "dot"
      ],
      "execution_count": null,
      "outputs": [
        {
          "output_type": "execute_result",
          "data": {
            "text/plain": [
              "11"
            ]
          },
          "metadata": {
            "tags": []
          },
          "execution_count": 5
        }
      ]
    },
    {
      "cell_type": "code",
      "metadata": {
        "colab": {
          "base_uri": "https://localhost:8080/"
        },
        "id": "66eUQ2pGsHlV",
        "outputId": "ef0d9ec3-dc06-4f82-c6c9-ab9cb203ced2"
      },
      "source": [
        "dot = 0\n",
        "for i in range(len(a)):\n",
        "  dot += a[i] * b[i]\n",
        "dot"
      ],
      "execution_count": null,
      "outputs": [
        {
          "output_type": "execute_result",
          "data": {
            "text/plain": [
              "11"
            ]
          },
          "metadata": {
            "tags": []
          },
          "execution_count": 6
        }
      ]
    },
    {
      "cell_type": "code",
      "metadata": {
        "id": "-Yon1B72xYr8"
      },
      "source": [
        "amag = np.sqrt((a*a).sum())"
      ],
      "execution_count": null,
      "outputs": []
    },
    {
      "cell_type": "code",
      "metadata": {
        "colab": {
          "base_uri": "https://localhost:8080/"
        },
        "id": "-zhV4gDMvptO",
        "outputId": "9cdef1a9-7e97-4b5d-c138-5232c0e41b68"
      },
      "source": [
        "amag"
      ],
      "execution_count": null,
      "outputs": [
        {
          "output_type": "execute_result",
          "data": {
            "text/plain": [
              "2.23606797749979"
            ]
          },
          "metadata": {
            "tags": []
          },
          "execution_count": 8
        }
      ]
    },
    {
      "cell_type": "code",
      "metadata": {
        "colab": {
          "base_uri": "https://localhost:8080/"
        },
        "id": "EYJ_VlZYxhJp",
        "outputId": "5b06344b-e03f-4ef8-d0f3-6987486a2455"
      },
      "source": [
        "np.linalg.norm(a)"
      ],
      "execution_count": null,
      "outputs": [
        {
          "output_type": "execute_result",
          "data": {
            "text/plain": [
              "2.23606797749979"
            ]
          },
          "metadata": {
            "tags": []
          },
          "execution_count": 10
        }
      ]
    },
    {
      "cell_type": "code",
      "metadata": {
        "id": "IU1PEPfGyOFf"
      },
      "source": [
        "cosangle = a.dot(b) / (np.linalg.norm(a) * np.linalg.norm(b))"
      ],
      "execution_count": null,
      "outputs": []
    },
    {
      "cell_type": "code",
      "metadata": {
        "id": "fwtpfjPFCeo_",
        "colab": {
          "base_uri": "https://localhost:8080/"
        },
        "outputId": "6995d7d2-08d9-409e-d0eb-6e3e37d98df3"
      },
      "source": [
        "cosangle"
      ],
      "execution_count": null,
      "outputs": [
        {
          "output_type": "execute_result",
          "data": {
            "text/plain": [
              "0.9838699100999074"
            ]
          },
          "metadata": {
            "tags": []
          },
          "execution_count": 12
        }
      ]
    },
    {
      "cell_type": "code",
      "metadata": {
        "id": "wGzh3a-NCjBY",
        "colab": {
          "base_uri": "https://localhost:8080/"
        },
        "outputId": "24aa0ce7-0904-404d-da42-14287b823b64"
      },
      "source": [
        "angle = np.arccos(cosangle)\n",
        "angle"
      ],
      "execution_count": null,
      "outputs": [
        {
          "output_type": "execute_result",
          "data": {
            "text/plain": [
              "0.17985349979247847"
            ]
          },
          "metadata": {
            "tags": []
          },
          "execution_count": 13
        }
      ]
    },
    {
      "cell_type": "code",
      "metadata": {
        "id": "A1rYBHJtDPTh"
      },
      "source": [
        "string_one = \"face\"\n",
        "  "
      ],
      "execution_count": null,
      "outputs": []
    },
    {
      "cell_type": "code",
      "metadata": {
        "id": "s0mLg_m7vvKC"
      },
      "source": [
        "string_two = \"your\""
      ],
      "execution_count": null,
      "outputs": []
    },
    {
      "cell_type": "code",
      "metadata": {
        "colab": {
          "base_uri": "https://localhost:8080/"
        },
        "id": "9IbMbdbTv063",
        "outputId": "77b7c72d-1ba1-437f-b3eb-f940d63015d4"
      },
      "source": [
        "print(string_one + \" \" + string_two)"
      ],
      "execution_count": null,
      "outputs": [
        {
          "output_type": "stream",
          "text": [
            "face your\n"
          ],
          "name": "stdout"
        }
      ]
    },
    {
      "cell_type": "code",
      "metadata": {
        "colab": {
          "base_uri": "https://localhost:8080/"
        },
        "id": "lF_cLBrKv7TO",
        "outputId": "4864ec7d-ff3f-447c-bfcf-d7681d8186ce"
      },
      "source": [
        "user_name = \"Volkan\"\n",
        "print(\"Hello \" + user_name)"
      ],
      "execution_count": null,
      "outputs": [
        {
          "output_type": "stream",
          "text": [
            "Hello Volkan\n"
          ],
          "name": "stdout"
        }
      ]
    },
    {
      "cell_type": "code",
      "metadata": {
        "id": "yFdXHcwbww9p"
      },
      "source": [
        "x = 10 \n",
        "formatted = f\"sana {x} defa soyledim. Yapma diye\""
      ],
      "execution_count": null,
      "outputs": []
    },
    {
      "cell_type": "code",
      "metadata": {
        "colab": {
          "base_uri": "https://localhost:8080/"
        },
        "id": "uW1xUJ12Cejo",
        "outputId": "698f2e7e-c0ff-45c6-8592-f06ee1f78edc"
      },
      "source": [
        "print(formatted)"
      ],
      "execution_count": null,
      "outputs": [
        {
          "output_type": "stream",
          "text": [
            "sana 10 defa soyledim. Yapma diye\n"
          ],
          "name": "stdout"
        }
      ]
    },
    {
      "cell_type": "code",
      "metadata": {
        "colab": {
          "base_uri": "https://localhost:8080/"
        },
        "id": "LQHgOlfNCi9c",
        "outputId": "655b9647-5026-41a8-af74-441e4274ede2"
      },
      "source": [
        "guess = 8\n",
        "print(f\"Your guess is {guess}\")"
      ],
      "execution_count": null,
      "outputs": [
        {
          "output_type": "stream",
          "text": [
            "Your guess is 8\n"
          ],
          "name": "stdout"
        }
      ]
    },
    {
      "cell_type": "code",
      "metadata": {
        "id": "1GzEXfWhC20Y"
      },
      "source": [
        "first = \"Volkan\"  \n",
        "last = \"Bulbul\"\n",
        "\n",
        "formatted = \"First Name: {}, Last Name : {}\".format(first, last)"
      ],
      "execution_count": null,
      "outputs": []
    },
    {
      "cell_type": "code",
      "metadata": {
        "id": "GxxA9FW8Eu9h"
      },
      "source": [
        "first = \"volkan \"\n",
        "last = \"Bulbul\"\n",
        "formatted = f\"First name: {first}, and Last Name: {last} \""
      ],
      "execution_count": null,
      "outputs": []
    },
    {
      "cell_type": "code",
      "metadata": {
        "colab": {
          "base_uri": "https://localhost:8080/"
        },
        "id": "81yviUVxFkyQ",
        "outputId": "814400ee-7cd5-4bce-a713-a297c9e9d27c"
      },
      "source": [
        "print(formatted)"
      ],
      "execution_count": null,
      "outputs": [
        {
          "output_type": "stream",
          "text": [
            "First name: volkan , and Last Name: Bulbul \n"
          ],
          "name": "stdout"
        }
      ]
    },
    {
      "cell_type": "code",
      "metadata": {
        "colab": {
          "base_uri": "https://localhost:8080/"
        },
        "id": "Zq0WmN9tFo18",
        "outputId": "ede641be-c1c3-46e8-faad-beacee982523"
      },
      "source": [
        "print(\"Bugun kac kilometre bisiklete bindin\")\n",
        "ktm = input()\n",
        "mil = float(ktm)/1.60934\n",
        "mil = round(mil, 2)\n",
        "print(f\"{ktm} kilometre Mile cevirdigimizde, {mil} mil yapıyor baya iyi gibi\")"
      ],
      "execution_count": null,
      "outputs": [
        {
          "output_type": "stream",
          "text": [
            "Bugun kac kilometre bisiklete bindin\n",
            "10\n",
            "10 kilometre Mile cevirdigimizde, 6.21 mil yapıyor baya iyi gibi\n"
          ],
          "name": "stdout"
        }
      ]
    },
    {
      "cell_type": "code",
      "metadata": {
        "id": "ikLGAgi6MSQw",
        "colab": {
          "base_uri": "https://localhost:8080/"
        },
        "outputId": "a950427b-215c-48b6-f79c-1ce8f3191469"
      },
      "source": [
        "data = input(\"Hello What is your favorite color\")\n",
        "print(\"Your color \" + data)"
      ],
      "execution_count": null,
      "outputs": [
        {
          "output_type": "stream",
          "text": [
            "Hello What is your favorite colorMavi\n",
            "Your color Mavi\n"
          ],
          "name": "stdout"
        }
      ]
    },
    {
      "cell_type": "code",
      "metadata": {
        "id": "1EjBKrboJQ7J",
        "colab": {
          "base_uri": "https://localhost:8080/"
        },
        "outputId": "1a1ef88c-3b5c-4445-c5c2-67bb338db4a7"
      },
      "source": [
        "name = input(\"Merhaba bir isim tahmin eder misiniz ?\")\n",
        "if name == \"Volkan Bulbul\":\n",
        "  print(\"Wow Tahmin ettin\")\n",
        "elif name == \"Esin\":\n",
        "  print(\"Güzel tahmin ama o cadi degil\")\n",
        "else :\n",
        "  print(\"Tahminlerin hepsi yalnıs\")\n"
      ],
      "execution_count": null,
      "outputs": [
        {
          "output_type": "stream",
          "text": [
            "Merhaba bir isim tahmin eder misiniz ?Volkan Bulbul\n",
            "Wow Tahmin ettin\n"
          ],
          "name": "stdout"
        }
      ]
    },
    {
      "cell_type": "code",
      "metadata": {
        "id": "UQpmc6-0dWrT",
        "colab": {
          "base_uri": "https://localhost:8080/"
        },
        "outputId": "f0a6df5f-43fe-455b-f999-810fd478b016"
      },
      "source": [
        "city = input(\"Nerede Yaşıyorsun\")\n",
        "if city == \"istanbul\" or city == \"ankara\":\n",
        "  print(\"Burada yasadigina inanamiyorum.\")\n",
        "else:\n",
        "  print(\"Burasi neresi adamim ?\")"
      ],
      "execution_count": null,
      "outputs": [
        {
          "output_type": "stream",
          "text": [
            "Nerede Yaşıyorsunadana\n",
            "Burasi neresi adamim ?\n"
          ],
          "name": "stdout"
        }
      ]
    },
    {
      "cell_type": "code",
      "metadata": {
        "id": "V8EGHZgaXvlP"
      },
      "source": [
        "age = input(\"Please enter your age ?\")\n",
        "if age:\n",
        "    age = int(age)\n",
        "\n",
        "    if age >= 18 and age < 21 :\n",
        "\n",
        "      print(\"Please wear a wristband\")\n",
        "    elif age >= 21 :\n",
        "\n",
        "      print(\"Wellcome to club dudeeeee!\")\n",
        "\n",
        "    else:\n",
        "      print(\"Move along, you are too young for the clup\")\n",
        "else:\n",
        "  print(\"Enter Your age!\")"
      ],
      "execution_count": null,
      "outputs": []
    },
    {
      "cell_type": "code",
      "metadata": {
        "id": "fjjI6lLMtwLG"
      },
      "source": [
        ""
      ],
      "execution_count": null,
      "outputs": []
    },
    {
      "cell_type": "code",
      "metadata": {
        "id": "N6m7nF0w8BSh"
      },
      "source": [
        "from random import randint\n",
        "rand_num = randint(0,2)\n",
        "if rand_num == 0:\n",
        "  computer = \"rock\"\n",
        "\n",
        "elif rand_num == 1:\n",
        "  computer = \"paper\"\n",
        "\n",
        "else: \n",
        "  computer = \"scissor\"\n",
        "print(f\"computer {computer}\")\n",
        "\n",
        "\n",
        "player= input(\"Player, Make your move: \").lower()\n",
        "\n",
        "\n",
        "if player == computer:\n",
        "  print(\"It's a tie\")\n",
        "\n",
        "elif player == \"rock\":\n",
        "  if computer == \"scissors\":\n",
        "    print(\"Player wins!\")\n",
        "  elif computer == \"paper\":\n",
        "    print(\"computer wins!\")\n",
        "\n",
        "elif player == \"paper\":\n",
        "  if computer ==  \"rock\":\n",
        "    print(\"Player wins\")\n",
        "  elif computer == \"scissors\":\n",
        "    print(\"computer wins!\")\n",
        "\n",
        "elif player == \"scissors\":\n",
        "  if computer == \"paper\":\n",
        "    print(\"Player wins\")\n",
        "  elif computer == \"rock\":\n",
        "    print(\"computer wins\")\n",
        "\n",
        "\n",
        "\n",
        "else:\n",
        "  print(\"Something went Wrong!\")\n",
        "\n",
        "\n",
        "\n",
        "\n",
        "\n",
        "\n",
        "      \n",
        "\n"
      ],
      "execution_count": null,
      "outputs": []
    },
    {
      "cell_type": "code",
      "metadata": {
        "id": "4dwcS605_-P8",
        "colab": {
          "base_uri": "https://localhost:8080/"
        },
        "outputId": "0b3ec071-1a01-47e2-a56f-ac1a105436f7"
      },
      "source": [
        "for number in range(1, 8):\n",
        "  print(number)"
      ],
      "execution_count": null,
      "outputs": [
        {
          "output_type": "stream",
          "text": [
            "1\n",
            "2\n",
            "3\n",
            "4\n",
            "5\n",
            "6\n",
            "7\n"
          ],
          "name": "stdout"
        }
      ]
    },
    {
      "cell_type": "code",
      "metadata": {
        "colab": {
          "base_uri": "https://localhost:8080/"
        },
        "id": "hSBr_OnW7hOk",
        "outputId": "9eafb0fc-c8c2-434e-91a5-5f37bd4116c3"
      },
      "source": [
        "for x in range(1, 10):\n",
        "  print(x*x)"
      ],
      "execution_count": null,
      "outputs": [
        {
          "output_type": "stream",
          "text": [
            "1\n",
            "4\n",
            "9\n",
            "16\n",
            "25\n",
            "36\n",
            "49\n",
            "64\n",
            "81\n"
          ],
          "name": "stdout"
        }
      ]
    },
    {
      "cell_type": "code",
      "metadata": {
        "id": "g7IMpjHH75En",
        "colab": {
          "base_uri": "https://localhost:8080/"
        },
        "outputId": "342acafe-b36e-4846-9d9a-3f80fd434903"
      },
      "source": [
        "for x in range(7,0,-1):\n",
        "  print(x)"
      ],
      "execution_count": null,
      "outputs": [
        {
          "output_type": "stream",
          "text": [
            "7\n",
            "6\n",
            "5\n",
            "4\n",
            "3\n",
            "2\n",
            "1\n"
          ],
          "name": "stdout"
        }
      ]
    },
    {
      "cell_type": "code",
      "metadata": {
        "colab": {
          "base_uri": "https://localhost:8080/"
        },
        "id": "WsKEXhp4wtAl",
        "outputId": "a66b6a61-5aa1-47c1-c27a-3581e6bb9592"
      },
      "source": [
        "list(range(3))"
      ],
      "execution_count": null,
      "outputs": [
        {
          "output_type": "execute_result",
          "data": {
            "text/plain": [
              "[0, 1, 2]"
            ]
          },
          "metadata": {
            "tags": []
          },
          "execution_count": 7
        }
      ]
    },
    {
      "cell_type": "code",
      "metadata": {
        "id": "ox5B4Ihfxn4H"
      },
      "source": [
        "x=0\n",
        "for y in range(11,21,2):\n",
        "    x += y"
      ],
      "execution_count": null,
      "outputs": []
    },
    {
      "cell_type": "code",
      "metadata": {
        "colab": {
          "base_uri": "https://localhost:8080/"
        },
        "id": "VFIhsnwgzHGl",
        "outputId": "5d42b4d7-7983-411b-9f1b-7f918ffa57b2"
      },
      "source": [
        "print(x)"
      ],
      "execution_count": null,
      "outputs": [
        {
          "output_type": "stream",
          "text": [
            "75\n"
          ],
          "name": "stdout"
        }
      ]
    },
    {
      "cell_type": "code",
      "metadata": {
        "colab": {
          "base_uri": "https://localhost:8080/"
        },
        "id": "_Tf9Fa__zIHt",
        "outputId": "52238c1b-2771-4dde-8d13-790f3c22598a"
      },
      "source": [
        "times = input(\"How many times do I have to tell you ?\")\n",
        "times = int(times)\n",
        "\n",
        "\n",
        "for time in range(times):\n",
        "  print(f\"time {time+1}: Clean up your room!\")"
      ],
      "execution_count": null,
      "outputs": [
        {
          "output_type": "stream",
          "text": [
            "How many times do I have to tell you ?3\n",
            "time 1: Clean up your room!\n",
            "time 2: Clean up your room!\n",
            "time 3: Clean up your room!\n"
          ],
          "name": "stdout"
        }
      ]
    },
    {
      "cell_type": "code",
      "metadata": {
        "colab": {
          "base_uri": "https://localhost:8080/"
        },
        "id": "gof6Kptc8D2K",
        "outputId": "f2c192fa-979e-48a6-8adf-98761be51bfa"
      },
      "source": [
        "for x in range(1,21):\n",
        "  if x==4:\n",
        "    print(\"Unlucy Number\")\n",
        "  elif x==13:\n",
        "    print(\"Unlucy Number\")\n",
        "  elif x % 2 == 0:\n",
        "    print(f\"{x} is Odd Number\")\n",
        "  else: \n",
        "    print(f\"{x} is Even number\")"
      ],
      "execution_count": null,
      "outputs": [
        {
          "output_type": "stream",
          "text": [
            "1 is Even number\n",
            "2 is Odd Number\n",
            "3 is Even number\n",
            "Unlucy Number\n",
            "5 is Even number\n",
            "6 is Odd Number\n",
            "7 is Even number\n",
            "8 is Odd Number\n",
            "9 is Even number\n",
            "10 is Odd Number\n",
            "11 is Even number\n",
            "12 is Odd Number\n",
            "Unlucy Number\n",
            "14 is Odd Number\n",
            "15 is Even number\n",
            "16 is Odd Number\n",
            "17 is Even number\n",
            "18 is Odd Number\n",
            "19 is Even number\n",
            "20 is Odd Number\n"
          ],
          "name": "stdout"
        }
      ]
    },
    {
      "cell_type": "code",
      "metadata": {
        "colab": {
          "base_uri": "https://localhost:8080/"
        },
        "id": "KEp4bsy_H2KK",
        "outputId": "a1ebec3c-724f-4194-a604-0501c5ee3e6b"
      },
      "source": [
        "msg = input(\"Whats the secret password\")\n",
        "while msg != \"bananas\":\n",
        "  print(\"Wrong!\")\n",
        "  msg = input(\"Whats the secret password\")\n",
        "print(\"Corrent!\")"
      ],
      "execution_count": null,
      "outputs": [
        {
          "output_type": "stream",
          "text": [
            "Whats the secret passwordvolkan\n",
            "Wrong!\n",
            "Whats the secret passwordvolkan\n",
            "Wrong!\n",
            "Whats the secret passwordbananas\n",
            "Corrent!\n"
          ],
          "name": "stdout"
        }
      ]
    },
    {
      "cell_type": "code",
      "metadata": {
        "colab": {
          "base_uri": "https://localhost:8080/"
        },
        "id": "TKFSSjm8NiP9",
        "outputId": "342f8a6d-abe9-4e70-cab4-1442a0e2f3e0"
      },
      "source": [
        "num = 1 \n",
        "\n",
        "while num < 11:\n",
        "  print(num)\n",
        "  num += 1 "
      ],
      "execution_count": null,
      "outputs": [
        {
          "output_type": "stream",
          "text": [
            "1\n",
            "2\n",
            "3\n",
            "4\n",
            "5\n",
            "6\n",
            "7\n",
            "8\n",
            "9\n",
            "10\n"
          ],
          "name": "stdout"
        }
      ]
    },
    {
      "cell_type": "code",
      "metadata": {
        "id": "Kxt5kUEyOd3F"
      },
      "source": [
        "for x in range(3):\n",
        "  for i in range(0,10):\n",
        "    print(\"\\U0001f600\"*i)"
      ],
      "execution_count": null,
      "outputs": []
    },
    {
      "cell_type": "code",
      "metadata": {
        "id": "EvnttcFnPcsU"
      },
      "source": [
        "times = 1 \n",
        "while times < 11:\n",
        "  print(\"\\U0001f600\"*times)\n",
        "  times += 1"
      ],
      "execution_count": null,
      "outputs": []
    },
    {
      "cell_type": "code",
      "metadata": {
        "colab": {
          "base_uri": "https://localhost:8080/"
        },
        "id": "IEUsgIIvVFE3",
        "outputId": "6fb0c4c3-3f5d-4986-daf0-87cb86669558"
      },
      "source": [
        "for i in range(1,11):\n",
        "  count = 1\n",
        "  smileys = \"\"\n",
        "  while count <= i:\n",
        "    smileys += \"\\U0001f600\"\n",
        "    count += 1\n",
        "  print(smileys)\n",
        "  \n",
        "    "
      ],
      "execution_count": null,
      "outputs": [
        {
          "output_type": "stream",
          "text": [
            "😀\n",
            "😀😀\n",
            "😀😀😀\n",
            "😀😀😀😀\n",
            "😀😀😀😀😀\n",
            "😀😀😀😀😀😀\n",
            "😀😀😀😀😀😀😀\n",
            "😀😀😀😀😀😀😀😀\n",
            "😀😀😀😀😀😀😀😀😀\n",
            "😀😀😀😀😀😀😀😀😀😀\n"
          ],
          "name": "stdout"
        }
      ]
    },
    {
      "cell_type": "code",
      "metadata": {
        "colab": {
          "base_uri": "https://localhost:8080/"
        },
        "id": "Hi54quVWk1eR",
        "outputId": "17072d23-6c42-4ef2-f232-f2fcdfce2b62"
      },
      "source": [
        "msg = input(\"Say Something: \")\n",
        "\n",
        "while msg != \"stop copying me\":\n",
        "  \n",
        "  msg = input(f\"{msg} \")\n",
        "print(\"You are winner\")\n",
        "\n",
        "\n"
      ],
      "execution_count": null,
      "outputs": [
        {
          "output_type": "stream",
          "text": [
            "Say Something: 2\n",
            "2 You are winner\n",
            "You are winner stop copying me\n",
            "You are winner\n"
          ],
          "name": "stdout"
        }
      ]
    },
    {
      "cell_type": "code",
      "metadata": {
        "colab": {
          "base_uri": "https://localhost:8080/"
        },
        "id": "D9JvlgHoq_JP",
        "outputId": "b3157171-97e3-430e-a7f7-c98e39ff3ce4"
      },
      "source": [
        "while True:\n",
        "  command = input(\"Type 'exit' to exit:\")\n",
        "  if ( command == \"exit\"):\n",
        "    break\n"
      ],
      "execution_count": null,
      "outputs": [
        {
          "output_type": "stream",
          "text": [
            "Type 'exit' to exit:volkna,\n",
            "Type 'exit' to exit:hooop\n",
            "Type 'exit' to exit:exit\n"
          ],
          "name": "stdout"
        }
      ]
    },
    {
      "cell_type": "code",
      "metadata": {
        "colab": {
          "base_uri": "https://localhost:8080/"
        },
        "id": "W2lx7FqKrmJy",
        "outputId": "598eeaad-c6e9-463f-a819-923699f49b87"
      },
      "source": [
        "for x in range (1, 101):\n",
        "  print(x)\n",
        "  if x == 3 :\n",
        "    break"
      ],
      "execution_count": null,
      "outputs": [
        {
          "output_type": "stream",
          "text": [
            "1\n",
            "2\n",
            "3\n"
          ],
          "name": "stdout"
        }
      ]
    },
    {
      "cell_type": "code",
      "metadata": {
        "colab": {
          "base_uri": "https://localhost:8080/"
        },
        "id": "mwsyQUuQs9pA",
        "outputId": "9eb17a1d-f2b9-499a-b6cd-dbcff133ad1f"
      },
      "source": [
        "times = int(input(\"How many times do I have to tell you ?\"))\n",
        "\n",
        "for time in range (times):\n",
        "  print(\"Clean up your room\")\n",
        "  if time >= 3:\n",
        "    print(\"Do you even listen anymore ?\")\n",
        "    break"
      ],
      "execution_count": null,
      "outputs": [
        {
          "output_type": "stream",
          "text": [
            "How many times do I have to tell you ?5\n",
            "Clean up your room\n",
            "Clean up your room\n",
            "Clean up your room\n",
            "Clean up your room\n",
            "Clean up your room\n",
            "Do you even listen anymore ?\n"
          ],
          "name": "stdout"
        }
      ]
    },
    {
      "cell_type": "code",
      "metadata": {
        "id": "QLOB0nhUtemP"
      },
      "source": [
        "from random import randint\n",
        "    # use randint(a, b) to generate a random number between a and b\n",
        "\n",
        "number = 0\n",
        "i = 0 # store random number in here, each time through\n",
        "while number != 5:\n",
        "    i += 1\n",
        "    number = randint(1, 10)"
      ],
      "execution_count": null,
      "outputs": []
    },
    {
      "cell_type": "code",
      "metadata": {
        "colab": {
          "base_uri": "https://localhost:8080/"
        },
        "id": "logQlenC3SoW",
        "outputId": "0c07b295-f54e-45d3-fe84-88890f08a14b"
      },
      "source": [
        "print(f\"{i} : {number}\")"
      ],
      "execution_count": null,
      "outputs": [
        {
          "output_type": "stream",
          "text": [
            "8 : 5\n"
          ],
          "name": "stdout"
        }
      ]
    },
    {
      "cell_type": "code",
      "metadata": {
        "colab": {
          "base_uri": "https://localhost:8080/"
        },
        "id": "RIDjtkJB4NIv",
        "outputId": "5ddd263e-63fc-443a-a5a4-7d55fd640a04"
      },
      "source": [
        "import random \n",
        "random_number = random.randint(1,20)\n",
        "\n",
        "\n",
        "while True:\n",
        "  guess = input(\"Pick a number from 1 to 20: \")\n",
        "  guess = int(guess) \n",
        "\n",
        "  if guess < random_number:\n",
        "    print(\"Too low\")\n",
        "  elif guess > random_number:\n",
        "    print(\"Too High\")\n",
        "  else:\n",
        "    print(\"You won\")\n",
        "    play_again = input(\"Do you want to play again ? (y/n)\")\n",
        "    if play_again == \"y\":\n",
        "      random_number = random.randint(1,20)\n",
        "      guess = \"\"\n",
        "    else:\n",
        "      print(\"Thank you for playing\")\n",
        "      break\n",
        "\n",
        "\n",
        "\n",
        "\n",
        "\n",
        "\n",
        "\n",
        "\n",
        "\n",
        "\n",
        "\n",
        "\n",
        "\n",
        "\n",
        "\n",
        "\n",
        "\n"
      ],
      "execution_count": null,
      "outputs": [
        {
          "output_type": "stream",
          "text": [
            "Pick a number from 1 to 20: 10\n",
            "Too low\n",
            "Pick a number from 1 to 20: 16\n",
            "Too High\n",
            "Pick a number from 1 to 20: 13\n",
            "Too High\n",
            "Pick a number from 1 to 20: 12\n",
            "You won\n",
            "Do you want to play again ? (y/n)y\n",
            "Pick a number from 1 to 20: 10\n",
            "Too High\n",
            "Pick a number from 1 to 20: 5\n",
            "Too High\n",
            "Pick a number from 1 to 20: 1\n",
            "You won\n",
            "Do you want to play again ? (y/n)y\n",
            "Pick a number from 1 to 20: 10\n",
            "Too low\n",
            "Pick a number from 1 to 20: 12\n",
            "Too low\n",
            "Pick a number from 1 to 20: 18\n",
            "Too High\n",
            "Pick a number from 1 to 20: 16\n",
            "Too High\n",
            "Pick a number from 1 to 20: 13\n",
            "Too low\n",
            "Pick a number from 1 to 20: 15\n",
            "You won\n",
            "Do you want to play again ? (y/n)n\n",
            "Thank you for playing\n"
          ],
          "name": "stdout"
        }
      ]
    },
    {
      "cell_type": "code",
      "metadata": {
        "id": "_iYuJrH8Ge9d",
        "colab": {
          "base_uri": "https://localhost:8080/",
          "height": 130
        },
        "outputId": "e0a14031-aea1-4b2a-a75b-243ffa9e2412"
      },
      "source": [
        "from random import randint\n",
        "rand_num = randint(0,2)\n",
        "  if rand_num == 0:\n",
        "    computer = \"rock\"\n",
        "\n",
        "  elif rand_num == 1:\n",
        "    computer = \"paper\"\n",
        "\n",
        "  else: \n",
        "    computer = \"scissor\"\n",
        "    print(f\"computer {computer}\")\n",
        "\n",
        "\n",
        "player= input(\"Player, Make your move: \").lower()\n",
        "\n",
        "\n",
        "  if player == computer:\n",
        "  print(\"It's a tie\")\n",
        "\n",
        "elif player == \"rock\":\n",
        "  if computer == \"scissors\":\n",
        "    print(\"Player wins!\")\n",
        "  elif computer == \"paper\":\n",
        "    print(\"computer wins!\")\n",
        "\n",
        "elif player == \"paper\":\n",
        "  if computer ==  \"rock\":\n",
        "    print(\"Player wins\")\n",
        "  elif computer == \"scissors\":\n",
        "    print(\"computer wins!\")\n",
        "\n",
        "elif player == \"scissors\":\n",
        "  if computer == \"paper\":\n",
        "    print(\"Player wins\")\n",
        "  elif computer == \"rock\":\n",
        "    print(\"computer wins\")\n",
        "\n",
        "\n",
        "\n",
        "else:\n",
        "  print(\"Something went Wrong!\")"
      ],
      "execution_count": null,
      "outputs": [
        {
          "output_type": "error",
          "ename": "IndentationError",
          "evalue": "ignored",
          "traceback": [
            "\u001b[0;36m  File \u001b[0;32m\"<ipython-input-1-0deae419a9f8>\"\u001b[0;36m, line \u001b[0;32m3\u001b[0m\n\u001b[0;31m    if rand_num == 0:\u001b[0m\n\u001b[0m    ^\u001b[0m\n\u001b[0;31mIndentationError\u001b[0m\u001b[0;31m:\u001b[0m unexpected indent\n"
          ]
        }
      ]
    },
    {
      "cell_type": "code",
      "metadata": {
        "id": "azANzVIU86Fc",
        "colab": {
          "base_uri": "https://localhost:8080/",
          "height": 165
        },
        "outputId": "a72bf95a-92ca-4aad-83f5-98fb554c2420"
      },
      "source": [
        "any()"
      ],
      "execution_count": null,
      "outputs": [
        {
          "output_type": "error",
          "ename": "TypeError",
          "evalue": "ignored",
          "traceback": [
            "\u001b[0;31m---------------------------------------------------------------------------\u001b[0m",
            "\u001b[0;31mTypeError\u001b[0m                                 Traceback (most recent call last)",
            "\u001b[0;32m<ipython-input-2-a2e4ef04a74c>\u001b[0m in \u001b[0;36m<module>\u001b[0;34m()\u001b[0m\n\u001b[0;32m----> 1\u001b[0;31m \u001b[0many\u001b[0m\u001b[0;34m(\u001b[0m\u001b[0;34m)\u001b[0m\u001b[0;34m\u001b[0m\u001b[0;34m\u001b[0m\u001b[0m\n\u001b[0m",
            "\u001b[0;31mTypeError\u001b[0m: any() takes exactly one argument (0 given)"
          ]
        }
      ]
    },
    {
      "cell_type": "code",
      "metadata": {
        "id": "LUhkuTfE87_K",
        "colab": {
          "base_uri": "https://localhost:8080/",
          "height": 621
        },
        "outputId": "7fc9bb29-932c-4940-b18c-969302925c4c"
      },
      "source": [
        "from random import randint\n",
        "player_wins = 0\n",
        "computer_wins = 0\n",
        "wining_score = 3\n",
        "\n",
        "while player_wins < wining_score and computer_wins < wining_score:\n",
        "  print(f\"Player Score:{player_wins}\")\n",
        "  print(f\"Computer Score:{computer_wins}\")\n",
        "\n",
        "\n",
        "\n",
        "\n",
        "  print(\"...Rock\")\n",
        "  print(\"...Paper\")\n",
        "  print(\"...Scissors\")\n",
        "\n",
        "  player = input(\"Enter Your Move:\").lower()\n",
        "  if player == \"quit\" or player == \"q\":\n",
        "    break\n",
        " \n",
        "  random_num = randint(0,2)\n",
        "\n",
        "  if (random_num == 0):\n",
        "    computer = \"rock\"\n",
        "  elif (random_num == 1):\n",
        "    computer = \"paper\"\n",
        "  else:\n",
        "    computer == \"scissor\"\n",
        "\n",
        "  print(f\"The compyter plays: {computer}\")\n",
        "\n",
        "  if player == computer:\n",
        "    print(\"It's a tie\")\n",
        "  elif player == \"rock\" :\n",
        "    if computer == \"paper\":\n",
        "      print(\"Computer Wins\")\n",
        "      computer_wins += 1\n",
        "\n",
        "    else:\n",
        "      print(\"player Wins\")\n",
        "      player_wins += 1\n",
        "  elif player == \"paper\":\n",
        "    if computer == \"rock\":\n",
        "      print(\"You Win\")\n",
        "      player_wins += 1\n",
        "    else:\n",
        "      print(\"Computer Wins\")\n",
        "      computer_wins += 1\n",
        "  elif player == \"scissor\":\n",
        "    if computer == \"rock\":\n",
        "      print(\"Computer Wins\")\n",
        "      computer_wins += 1\n",
        "      \n",
        "    else:\n",
        "      print(\"Player Wins\")\n",
        "      player_wins += 1\n",
        "\n",
        "  else:\n",
        "    print(\"Please make your move\")\n",
        "if player_wins == 2 :\n",
        "  print(\"Congrats\")\n",
        "if player_wins == computer_wins:\n",
        "  print(\"It's a tie\")\n",
        "else:\n",
        "    print(\"Computer Wins\")\n",
        "\n",
        "print(f\"Final Scores...Player Score:{player_wins} Computer Score:{computer_wins} \")"
      ],
      "execution_count": null,
      "outputs": [
        {
          "output_type": "stream",
          "text": [
            "Player Score:0\n",
            "Computer Score:0\n",
            "...Rock\n",
            "...Paper\n",
            "...Scissors\n"
          ],
          "name": "stdout"
        },
        {
          "output_type": "error",
          "ename": "KeyboardInterrupt",
          "evalue": "ignored",
          "traceback": [
            "\u001b[0;31m---------------------------------------------------------------------------\u001b[0m",
            "\u001b[0;31mKeyboardInterrupt\u001b[0m                         Traceback (most recent call last)",
            "\u001b[0;32m/usr/local/lib/python3.6/dist-packages/ipykernel/kernelbase.py\u001b[0m in \u001b[0;36m_input_request\u001b[0;34m(self, prompt, ident, parent, password)\u001b[0m\n\u001b[1;32m    728\u001b[0m             \u001b[0;32mtry\u001b[0m\u001b[0;34m:\u001b[0m\u001b[0;34m\u001b[0m\u001b[0;34m\u001b[0m\u001b[0m\n\u001b[0;32m--> 729\u001b[0;31m                 \u001b[0mident\u001b[0m\u001b[0;34m,\u001b[0m \u001b[0mreply\u001b[0m \u001b[0;34m=\u001b[0m \u001b[0mself\u001b[0m\u001b[0;34m.\u001b[0m\u001b[0msession\u001b[0m\u001b[0;34m.\u001b[0m\u001b[0mrecv\u001b[0m\u001b[0;34m(\u001b[0m\u001b[0mself\u001b[0m\u001b[0;34m.\u001b[0m\u001b[0mstdin_socket\u001b[0m\u001b[0;34m,\u001b[0m \u001b[0;36m0\u001b[0m\u001b[0;34m)\u001b[0m\u001b[0;34m\u001b[0m\u001b[0;34m\u001b[0m\u001b[0m\n\u001b[0m\u001b[1;32m    730\u001b[0m             \u001b[0;32mexcept\u001b[0m \u001b[0mException\u001b[0m\u001b[0;34m:\u001b[0m\u001b[0;34m\u001b[0m\u001b[0;34m\u001b[0m\u001b[0m\n",
            "\u001b[0;32m/usr/local/lib/python3.6/dist-packages/jupyter_client/session.py\u001b[0m in \u001b[0;36mrecv\u001b[0;34m(self, socket, mode, content, copy)\u001b[0m\n\u001b[1;32m    802\u001b[0m         \u001b[0;32mtry\u001b[0m\u001b[0;34m:\u001b[0m\u001b[0;34m\u001b[0m\u001b[0;34m\u001b[0m\u001b[0m\n\u001b[0;32m--> 803\u001b[0;31m             \u001b[0mmsg_list\u001b[0m \u001b[0;34m=\u001b[0m \u001b[0msocket\u001b[0m\u001b[0;34m.\u001b[0m\u001b[0mrecv_multipart\u001b[0m\u001b[0;34m(\u001b[0m\u001b[0mmode\u001b[0m\u001b[0;34m,\u001b[0m \u001b[0mcopy\u001b[0m\u001b[0;34m=\u001b[0m\u001b[0mcopy\u001b[0m\u001b[0;34m)\u001b[0m\u001b[0;34m\u001b[0m\u001b[0;34m\u001b[0m\u001b[0m\n\u001b[0m\u001b[1;32m    804\u001b[0m         \u001b[0;32mexcept\u001b[0m \u001b[0mzmq\u001b[0m\u001b[0;34m.\u001b[0m\u001b[0mZMQError\u001b[0m \u001b[0;32mas\u001b[0m \u001b[0me\u001b[0m\u001b[0;34m:\u001b[0m\u001b[0;34m\u001b[0m\u001b[0;34m\u001b[0m\u001b[0m\n",
            "\u001b[0;32m/usr/local/lib/python3.6/dist-packages/zmq/sugar/socket.py\u001b[0m in \u001b[0;36mrecv_multipart\u001b[0;34m(self, flags, copy, track)\u001b[0m\n\u001b[1;32m    565\u001b[0m         \"\"\"\n\u001b[0;32m--> 566\u001b[0;31m         \u001b[0mparts\u001b[0m \u001b[0;34m=\u001b[0m \u001b[0;34m[\u001b[0m\u001b[0mself\u001b[0m\u001b[0;34m.\u001b[0m\u001b[0mrecv\u001b[0m\u001b[0;34m(\u001b[0m\u001b[0mflags\u001b[0m\u001b[0;34m,\u001b[0m \u001b[0mcopy\u001b[0m\u001b[0;34m=\u001b[0m\u001b[0mcopy\u001b[0m\u001b[0;34m,\u001b[0m \u001b[0mtrack\u001b[0m\u001b[0;34m=\u001b[0m\u001b[0mtrack\u001b[0m\u001b[0;34m)\u001b[0m\u001b[0;34m]\u001b[0m\u001b[0;34m\u001b[0m\u001b[0;34m\u001b[0m\u001b[0m\n\u001b[0m\u001b[1;32m    567\u001b[0m         \u001b[0;31m# have first part already, only loop while more to receive\u001b[0m\u001b[0;34m\u001b[0m\u001b[0;34m\u001b[0m\u001b[0;34m\u001b[0m\u001b[0m\n",
            "\u001b[0;32mzmq/backend/cython/socket.pyx\u001b[0m in \u001b[0;36mzmq.backend.cython.socket.Socket.recv\u001b[0;34m()\u001b[0m\n",
            "\u001b[0;32mzmq/backend/cython/socket.pyx\u001b[0m in \u001b[0;36mzmq.backend.cython.socket.Socket.recv\u001b[0;34m()\u001b[0m\n",
            "\u001b[0;32mzmq/backend/cython/socket.pyx\u001b[0m in \u001b[0;36mzmq.backend.cython.socket._recv_copy\u001b[0;34m()\u001b[0m\n",
            "\u001b[0;32m/usr/local/lib/python3.6/dist-packages/zmq/backend/cython/checkrc.pxd\u001b[0m in \u001b[0;36mzmq.backend.cython.checkrc._check_rc\u001b[0;34m()\u001b[0m\n",
            "\u001b[0;31mKeyboardInterrupt\u001b[0m: ",
            "\nDuring handling of the above exception, another exception occurred:\n",
            "\u001b[0;31mKeyboardInterrupt\u001b[0m                         Traceback (most recent call last)",
            "\u001b[0;32m<ipython-input-1-b9829879aed1>\u001b[0m in \u001b[0;36m<module>\u001b[0;34m()\u001b[0m\n\u001b[1;32m     15\u001b[0m   \u001b[0mprint\u001b[0m\u001b[0;34m(\u001b[0m\u001b[0;34m\"...Scissors\"\u001b[0m\u001b[0;34m)\u001b[0m\u001b[0;34m\u001b[0m\u001b[0;34m\u001b[0m\u001b[0m\n\u001b[1;32m     16\u001b[0m \u001b[0;34m\u001b[0m\u001b[0m\n\u001b[0;32m---> 17\u001b[0;31m   \u001b[0mplayer\u001b[0m \u001b[0;34m=\u001b[0m \u001b[0minput\u001b[0m\u001b[0;34m(\u001b[0m\u001b[0;34m\"Enter Your Move:\"\u001b[0m\u001b[0;34m)\u001b[0m\u001b[0;34m.\u001b[0m\u001b[0mlower\u001b[0m\u001b[0;34m(\u001b[0m\u001b[0;34m)\u001b[0m\u001b[0;34m\u001b[0m\u001b[0;34m\u001b[0m\u001b[0m\n\u001b[0m\u001b[1;32m     18\u001b[0m   \u001b[0;32mif\u001b[0m \u001b[0mplayer\u001b[0m \u001b[0;34m==\u001b[0m \u001b[0;34m\"quit\"\u001b[0m \u001b[0;32mor\u001b[0m \u001b[0mplayer\u001b[0m \u001b[0;34m==\u001b[0m \u001b[0;34m\"q\"\u001b[0m\u001b[0;34m:\u001b[0m\u001b[0;34m\u001b[0m\u001b[0;34m\u001b[0m\u001b[0m\n\u001b[1;32m     19\u001b[0m     \u001b[0;32mbreak\u001b[0m\u001b[0;34m\u001b[0m\u001b[0;34m\u001b[0m\u001b[0m\n",
            "\u001b[0;32m/usr/local/lib/python3.6/dist-packages/ipykernel/kernelbase.py\u001b[0m in \u001b[0;36mraw_input\u001b[0;34m(self, prompt)\u001b[0m\n\u001b[1;32m    702\u001b[0m             \u001b[0mself\u001b[0m\u001b[0;34m.\u001b[0m\u001b[0m_parent_ident\u001b[0m\u001b[0;34m,\u001b[0m\u001b[0;34m\u001b[0m\u001b[0;34m\u001b[0m\u001b[0m\n\u001b[1;32m    703\u001b[0m             \u001b[0mself\u001b[0m\u001b[0;34m.\u001b[0m\u001b[0m_parent_header\u001b[0m\u001b[0;34m,\u001b[0m\u001b[0;34m\u001b[0m\u001b[0;34m\u001b[0m\u001b[0m\n\u001b[0;32m--> 704\u001b[0;31m             \u001b[0mpassword\u001b[0m\u001b[0;34m=\u001b[0m\u001b[0;32mFalse\u001b[0m\u001b[0;34m,\u001b[0m\u001b[0;34m\u001b[0m\u001b[0;34m\u001b[0m\u001b[0m\n\u001b[0m\u001b[1;32m    705\u001b[0m         )\n\u001b[1;32m    706\u001b[0m \u001b[0;34m\u001b[0m\u001b[0m\n",
            "\u001b[0;32m/usr/local/lib/python3.6/dist-packages/ipykernel/kernelbase.py\u001b[0m in \u001b[0;36m_input_request\u001b[0;34m(self, prompt, ident, parent, password)\u001b[0m\n\u001b[1;32m    732\u001b[0m             \u001b[0;32mexcept\u001b[0m \u001b[0mKeyboardInterrupt\u001b[0m\u001b[0;34m:\u001b[0m\u001b[0;34m\u001b[0m\u001b[0;34m\u001b[0m\u001b[0m\n\u001b[1;32m    733\u001b[0m                 \u001b[0;31m# re-raise KeyboardInterrupt, to truncate traceback\u001b[0m\u001b[0;34m\u001b[0m\u001b[0;34m\u001b[0m\u001b[0;34m\u001b[0m\u001b[0m\n\u001b[0;32m--> 734\u001b[0;31m                 \u001b[0;32mraise\u001b[0m \u001b[0mKeyboardInterrupt\u001b[0m\u001b[0;34m\u001b[0m\u001b[0;34m\u001b[0m\u001b[0m\n\u001b[0m\u001b[1;32m    735\u001b[0m             \u001b[0;32melse\u001b[0m\u001b[0;34m:\u001b[0m\u001b[0;34m\u001b[0m\u001b[0;34m\u001b[0m\u001b[0m\n\u001b[1;32m    736\u001b[0m                 \u001b[0;32mbreak\u001b[0m\u001b[0;34m\u001b[0m\u001b[0;34m\u001b[0m\u001b[0m\n",
            "\u001b[0;31mKeyboardInterrupt\u001b[0m: "
          ]
        }
      ]
    },
    {
      "cell_type": "code",
      "metadata": {
        "id": "z59G_WjepPGG"
      },
      "source": [
        "first_task = \"Install Python\"\n",
        "second_task = \"Learn Python\"\n",
        "third_task = \"Take a Break\""
      ],
      "execution_count": null,
      "outputs": []
    },
    {
      "cell_type": "code",
      "metadata": {
        "id": "cJKygm_OtNBT"
      },
      "source": [
        "tasks = [\"Install Python\", \"Learn Python\", \"Take a Break\"]"
      ],
      "execution_count": null,
      "outputs": []
    },
    {
      "cell_type": "code",
      "metadata": {
        "colab": {
          "base_uri": "https://localhost:8080/"
        },
        "id": "d8ITPNtTtlO7",
        "outputId": "e4198fbd-602b-41a9-c176-6454fa07729c"
      },
      "source": [
        "type(tasks)"
      ],
      "execution_count": null,
      "outputs": [
        {
          "output_type": "execute_result",
          "data": {
            "text/plain": [
              "list"
            ]
          },
          "metadata": {
            "tags": []
          },
          "execution_count": 5
        }
      ]
    },
    {
      "cell_type": "code",
      "metadata": {
        "colab": {
          "base_uri": "https://localhost:8080/"
        },
        "id": "Hx0UlF6vtoNI",
        "outputId": "a6511950-3450-4990-beb7-dc40f1b672b1"
      },
      "source": [
        "len(tasks)"
      ],
      "execution_count": null,
      "outputs": [
        {
          "output_type": "execute_result",
          "data": {
            "text/plain": [
              "3"
            ]
          },
          "metadata": {
            "tags": []
          },
          "execution_count": 6
        }
      ]
    },
    {
      "cell_type": "code",
      "metadata": {
        "id": "Cj05p9s6uBTz"
      },
      "source": [
        "r = list(range(1,10))\n"
      ],
      "execution_count": null,
      "outputs": []
    },
    {
      "cell_type": "code",
      "metadata": {
        "colab": {
          "base_uri": "https://localhost:8080/"
        },
        "id": "wW23Tep2uPhC",
        "outputId": "d474f5a3-0683-4402-cf1f-64eebfc965c3"
      },
      "source": [
        "list(r)"
      ],
      "execution_count": null,
      "outputs": [
        {
          "output_type": "execute_result",
          "data": {
            "text/plain": [
              "[1, 2, 3, 4, 5, 6, 7, 8, 9]"
            ]
          },
          "metadata": {
            "tags": []
          },
          "execution_count": 8
        }
      ]
    },
    {
      "cell_type": "code",
      "metadata": {
        "colab": {
          "base_uri": "https://localhost:8080/",
          "height": 35
        },
        "id": "ybVImdhauQ2o",
        "outputId": "5b9c571b-cfe6-4bd6-e3ac-5128ca5c8218"
      },
      "source": [
        "colors = [\"purple\",\"black\",\"orange\"]\n",
        "\n",
        "colors[0]"
      ],
      "execution_count": null,
      "outputs": [
        {
          "output_type": "execute_result",
          "data": {
            "application/vnd.google.colaboratory.intrinsic+json": {
              "type": "string"
            },
            "text/plain": [
              "'purple'"
            ]
          },
          "metadata": {
            "tags": []
          },
          "execution_count": 15
        }
      ]
    },
    {
      "cell_type": "code",
      "metadata": {
        "colab": {
          "base_uri": "https://localhost:8080/"
        },
        "id": "6D6iUlG0vagP",
        "outputId": "ca30f35b-2684-4358-8651-b563c4ca6a39"
      },
      "source": [
        "print(colors[0])"
      ],
      "execution_count": null,
      "outputs": [
        {
          "output_type": "stream",
          "text": [
            "purple\n"
          ],
          "name": "stdout"
        }
      ]
    },
    {
      "cell_type": "code",
      "metadata": {
        "colab": {
          "base_uri": "https://localhost:8080/"
        },
        "id": "qNtD_vqrvg6w",
        "outputId": "d70b0979-40dc-4683-d96f-d17f86401c2c"
      },
      "source": [
        "colors = [\"Red\", \"Purple\", \"Blue\"] \n",
        "for color in colors:\n",
        "  print(color)"
      ],
      "execution_count": null,
      "outputs": [
        {
          "output_type": "stream",
          "text": [
            "Red\n",
            "Purple\n",
            "Blue\n"
          ],
          "name": "stdout"
        }
      ]
    },
    {
      "cell_type": "code",
      "metadata": {
        "colab": {
          "base_uri": "https://localhost:8080/"
        },
        "id": "-h2ziHkM2MWN",
        "outputId": "226c48fa-d6a2-4138-d3e8-60ccd7215b66"
      },
      "source": [
        "numbers = [1,2,3,10,\"Apple\"]\n",
        "\n",
        "for num in numbers:\n",
        "  num += num\n",
        "  print(num)"
      ],
      "execution_count": null,
      "outputs": [
        {
          "output_type": "stream",
          "text": [
            "2\n",
            "4\n",
            "6\n",
            "20\n",
            "AppleApple\n"
          ],
          "name": "stdout"
        }
      ]
    },
    {
      "cell_type": "code",
      "metadata": {
        "colab": {
          "base_uri": "https://localhost:8080/"
        },
        "id": "K72LQoH82bsy",
        "outputId": "43dbeb62-76eb-4397-f2ff-e3107c6fc34d"
      },
      "source": [
        "numbers = [1,2,3,10]\n",
        "i = 0\n",
        "while i < len(numbers):\n",
        "  print(numbers[i])\n",
        "  i += 1"
      ],
      "execution_count": null,
      "outputs": [
        {
          "output_type": "stream",
          "text": [
            "1\n",
            "2\n",
            "3\n",
            "10\n"
          ],
          "name": "stdout"
        }
      ]
    },
    {
      "cell_type": "code",
      "metadata": {
        "colab": {
          "base_uri": "https://localhost:8080/"
        },
        "id": "yzyyn3Mb3gop",
        "outputId": "d7e7e73c-cded-4803-e016-3d9ef569e2e8"
      },
      "source": [
        "colors = [\"Red\", \"Purple\", \"Blue\",\"Magenta\",\"Teal\"]\n",
        "index = 0\n",
        "while index < len(colors):\n",
        "  print(f\"{index}: {colors[index]}\")\n",
        "  index += 1\n",
        "   \n"
      ],
      "execution_count": null,
      "outputs": [
        {
          "output_type": "stream",
          "text": [
            "0: Red\n",
            "1: Purple\n",
            "2: Blue\n",
            "3: Magenta\n",
            "4: Teal\n"
          ],
          "name": "stdout"
        }
      ]
    },
    {
      "cell_type": "code",
      "metadata": {
        "id": "Q9O_rkGc4saw"
      },
      "source": [
        "sounds = [\"super\", \"cali\", \"fragil\", \"istic\", \"expi\", \"ali\", \"docious\"]\n",
        "\n",
        "result = \"\"\n",
        "for s in sounds:\n",
        "    result += s.upper()"
      ],
      "execution_count": null,
      "outputs": []
    },
    {
      "cell_type": "code",
      "metadata": {
        "colab": {
          "base_uri": "https://localhost:8080/"
        },
        "id": "HGFq22YX6Js0",
        "outputId": "19d79b8c-3571-4cbc-a5a6-cb5abf2cdaa4"
      },
      "source": [
        "print(result)"
      ],
      "execution_count": null,
      "outputs": [
        {
          "output_type": "stream",
          "text": [
            "SUPERCALIFRAGILISTICEXPIALIDOCIOUS\n"
          ],
          "name": "stdout"
        }
      ]
    },
    {
      "cell_type": "code",
      "metadata": {
        "id": "8Q6M5V7V6N7Y"
      },
      "source": [
        "  data = [1,2,3,4]"
      ],
      "execution_count": null,
      "outputs": []
    },
    {
      "cell_type": "code",
      "metadata": {
        "id": "_sOmf7aY_jwY"
      },
      "source": [
        "data.append(5)"
      ],
      "execution_count": null,
      "outputs": []
    },
    {
      "cell_type": "code",
      "metadata": {
        "colab": {
          "base_uri": "https://localhost:8080/"
        },
        "id": "VYQ7Yk4a_mdI",
        "outputId": "6e7104fe-1d75-4c6a-d07d-a59c326a0f72"
      },
      "source": [
        "data"
      ],
      "execution_count": null,
      "outputs": [
        {
          "output_type": "execute_result",
          "data": {
            "text/plain": [
              "[1, 2, 3, 4, 5]"
            ]
          },
          "metadata": {
            "tags": []
          },
          "execution_count": 60
        }
      ]
    },
    {
      "cell_type": "code",
      "metadata": {
        "id": "3mPqV2bs_qk8"
      },
      "source": [
        "data.append([5])"
      ],
      "execution_count": null,
      "outputs": []
    },
    {
      "cell_type": "code",
      "metadata": {
        "colab": {
          "base_uri": "https://localhost:8080/"
        },
        "id": "qSQUPBW3_w5J",
        "outputId": "4d44348f-7d2f-41a0-e429-012b00135c15"
      },
      "source": [
        "data"
      ],
      "execution_count": null,
      "outputs": [
        {
          "output_type": "execute_result",
          "data": {
            "text/plain": [
              "[1, 2, 3, 4, 5, [5]]"
            ]
          },
          "metadata": {
            "tags": []
          },
          "execution_count": 63
        }
      ]
    },
    {
      "cell_type": "code",
      "metadata": {
        "id": "Da2A4Aia_xeL"
      },
      "source": [
        "data.extend([5,6,7])"
      ],
      "execution_count": null,
      "outputs": []
    },
    {
      "cell_type": "code",
      "metadata": {
        "colab": {
          "base_uri": "https://localhost:8080/"
        },
        "id": "mWslUjbH_2Hu",
        "outputId": "f2dd75a8-fe57-4ddd-9728-71ed33d78dc0"
      },
      "source": [
        "data"
      ],
      "execution_count": null,
      "outputs": [
        {
          "output_type": "execute_result",
          "data": {
            "text/plain": [
              "[1, 2, 3, 4, 5, [5], 5, 6, 7]"
            ]
          },
          "metadata": {
            "tags": []
          },
          "execution_count": 65
        }
      ]
    },
    {
      "cell_type": "code",
      "metadata": {
        "colab": {
          "base_uri": "https://localhost:8080/"
        },
        "id": "Ak1xY2iW_2lb",
        "outputId": "00a854e9-6f71-48f2-cb02-3b46f043f46e"
      },
      "source": [
        "type(data)"
      ],
      "execution_count": null,
      "outputs": [
        {
          "output_type": "execute_result",
          "data": {
            "text/plain": [
              "list"
            ]
          },
          "metadata": {
            "tags": []
          },
          "execution_count": 66
        }
      ]
    },
    {
      "cell_type": "code",
      "metadata": {
        "colab": {
          "base_uri": "https://localhost:8080/"
        },
        "id": "iF9EIpCZ_8QX",
        "outputId": "70003181-ca86-4846-deaf-06e92a74f33a"
      },
      "source": [
        "len(data)"
      ],
      "execution_count": null,
      "outputs": [
        {
          "output_type": "execute_result",
          "data": {
            "text/plain": [
              "9"
            ]
          },
          "metadata": {
            "tags": []
          },
          "execution_count": 67
        }
      ]
    },
    {
      "cell_type": "code",
      "metadata": {
        "colab": {
          "base_uri": "https://localhost:8080/"
        },
        "id": "alZYtyRN_-Yq",
        "outputId": "f49db0d7-a721-495b-9635-24f4cf181058"
      },
      "source": [
        "data.pop(5)"
      ],
      "execution_count": null,
      "outputs": [
        {
          "output_type": "execute_result",
          "data": {
            "text/plain": [
              "[5]"
            ]
          },
          "metadata": {
            "tags": []
          },
          "execution_count": 69
        }
      ]
    },
    {
      "cell_type": "code",
      "metadata": {
        "colab": {
          "base_uri": "https://localhost:8080/"
        },
        "id": "LcCbZzP3FS3m",
        "outputId": "a9ba452f-2a0a-437e-f0b9-f29079364b84"
      },
      "source": [
        "data"
      ],
      "execution_count": null,
      "outputs": [
        {
          "output_type": "execute_result",
          "data": {
            "text/plain": [
              "[1, 2, 3, 4, 5, 5, 6, 7]"
            ]
          },
          "metadata": {
            "tags": []
          },
          "execution_count": 72
        }
      ]
    },
    {
      "cell_type": "code",
      "metadata": {
        "id": "eFSeKfUFFfaq"
      },
      "source": [
        "numbers = [1,2,3]\n",
        "\n"
      ],
      "execution_count": null,
      "outputs": []
    },
    {
      "cell_type": "code",
      "metadata": {
        "id": "3qFybl3CHM_F"
      },
      "source": [
        "first_list = [1,2,3,4,5,6,7,8,9,10]"
      ],
      "execution_count": null,
      "outputs": []
    },
    {
      "cell_type": "code",
      "metadata": {
        "colab": {
          "base_uri": "https://localhost:8080/"
        },
        "id": "RgP-Nw_cVSpo",
        "outputId": "987a8ca3-1a9f-4594-8857-60233bffa210"
      },
      "source": [
        "first_list[1:10:2]"
      ],
      "execution_count": null,
      "outputs": [
        {
          "output_type": "execute_result",
          "data": {
            "text/plain": [
              "[2, 4, 6, 8, 10]"
            ]
          },
          "metadata": {
            "tags": []
          },
          "execution_count": 8
        }
      ]
    },
    {
      "cell_type": "code",
      "metadata": {
        "id": "8h7sP0qDVXul",
        "colab": {
          "base_uri": "https://localhost:8080/",
          "height": 35
        },
        "outputId": "aa59a236-f55f-4628-fccc-2de90b966c74"
      },
      "source": [
        "string = \"This is fun\"\n",
        "\n",
        "string[::-1]"
      ],
      "execution_count": null,
      "outputs": [
        {
          "output_type": "execute_result",
          "data": {
            "application/vnd.google.colaboratory.intrinsic+json": {
              "type": "string"
            },
            "text/plain": [
              "'nuf si sihT'"
            ]
          },
          "metadata": {
            "tags": []
          },
          "execution_count": 4
        }
      ]
    },
    {
      "cell_type": "code",
      "metadata": {
        "id": "orc7KeLMQntj"
      },
      "source": [
        "friends = ['ashley', 'matt', 'michael']\n",
        " \n",
        "\n",
        "\n",
        "for friend in friends:\n",
        "  friend[0].upper() "
      ],
      "execution_count": null,
      "outputs": []
    },
    {
      "cell_type": "code",
      "metadata": {
        "colab": {
          "base_uri": "https://localhost:8080/"
        },
        "id": "QUR4XMQqWf37",
        "outputId": "030ff391-301a-419f-b70a-aa90bf0fefb2"
      },
      "source": [
        "print(friend)"
      ],
      "execution_count": null,
      "outputs": [
        {
          "output_type": "stream",
          "text": [
            "michael\n"
          ],
          "name": "stdout"
        }
      ]
    },
    {
      "cell_type": "code",
      "metadata": {
        "colab": {
          "base_uri": "https://localhost:8080/"
        },
        "id": "kDWBRJKzWp29",
        "outputId": "1edb94b7-4079-4931-f446-47022c59ff4d"
      },
      "source": [
        "friends = ['ashley', 'matt', 'michael']\n",
        " \n",
        "[friend.capitalize() for friend in friends]"
      ],
      "execution_count": null,
      "outputs": [
        {
          "output_type": "execute_result",
          "data": {
            "text/plain": [
              "['Ashley', 'Matt', 'Michael']"
            ]
          },
          "metadata": {
            "tags": []
          },
          "execution_count": 11
        }
      ]
    },
    {
      "cell_type": "code",
      "metadata": {
        "colab": {
          "base_uri": "https://localhost:8080/"
        },
        "id": "8NcpU6jXW16r",
        "outputId": "b1af1a6a-5017-408c-fd55-f5b4f61effc1"
      },
      "source": [
        "friends = ['ashley', 'matt', 'michael']\n",
        " \n",
        "[friend[0].upper() for friend in friends]\n"
      ],
      "execution_count": null,
      "outputs": [
        {
          "output_type": "execute_result",
          "data": {
            "text/plain": [
              "['A', 'M', 'M']"
            ]
          },
          "metadata": {
            "tags": []
          },
          "execution_count": 13
        }
      ]
    },
    {
      "cell_type": "code",
      "metadata": {
        "id": "TDx-GDLUW9FJ",
        "colab": {
          "base_uri": "https://localhost:8080/"
        },
        "outputId": "92f6e5ce-84a5-4bdd-e6d3-b4daf43400ac"
      },
      "source": [
        "nums = [1,2,3]\n",
        "[x*10 for x in nums]\n"
      ],
      "execution_count": null,
      "outputs": [
        {
          "output_type": "execute_result",
          "data": {
            "text/plain": [
              "[10, 20, 30]"
            ]
          },
          "metadata": {
            "tags": []
          },
          "execution_count": 1
        }
      ]
    },
    {
      "cell_type": "code",
      "metadata": {
        "colab": {
          "base_uri": "https://localhost:8080/"
        },
        "id": "8OkfJgZc9PVf",
        "outputId": "fc244eb5-bd31-4139-90ac-2434094eb0b8"
      },
      "source": [
        "numbers = [1,2,3,4,5,6,7]\n",
        "double_numbers = [num*2 for num in numbers]\n",
        "print(double_numbers)"
      ],
      "execution_count": null,
      "outputs": [
        {
          "output_type": "stream",
          "text": [
            "[2, 4, 6, 8, 10, 12, 14]\n"
          ],
          "name": "stdout"
        }
      ]
    },
    {
      "cell_type": "code",
      "metadata": {
        "id": "mwkfx2R2-uma"
      },
      "source": [
        "fruits = [\"muz\",\"elma\",\"armut\"]"
      ],
      "execution_count": null,
      "outputs": []
    },
    {
      "cell_type": "code",
      "metadata": {
        "colab": {
          "base_uri": "https://localhost:8080/"
        },
        "id": "pdqGEQIs_H4r",
        "outputId": "58c1e135-1d50-45e9-8250-98d6d6c96558"
      },
      "source": [
        "print(fruits)"
      ],
      "execution_count": null,
      "outputs": [
        {
          "output_type": "stream",
          "text": [
            "['muz', 'elma', 'armut', 'portakal']\n"
          ],
          "name": "stdout"
        }
      ]
    },
    {
      "cell_type": "code",
      "metadata": {
        "colab": {
          "base_uri": "https://localhost:8080/"
        },
        "id": "M01ujPSu_KGU",
        "outputId": "abd08837-2ff5-43a3-f156-8ebb8318d2d1"
      },
      "source": [
        "isim = \"volkan\"\n",
        "karak = \"\"\n",
        "[karak.upper() for karak in isim]\n",
        "print(karak)"
      ],
      "execution_count": null,
      "outputs": [
        {
          "output_type": "stream",
          "text": [
            "\n"
          ],
          "name": "stdout"
        }
      ]
    },
    {
      "cell_type": "code",
      "metadata": {
        "colab": {
          "base_uri": "https://localhost:8080/"
        },
        "id": "ybuQm2vfAj_5",
        "outputId": "8ac8e3b1-90bb-4415-8bce-4b4aa1986874"
      },
      "source": [
        "print(karak)"
      ],
      "execution_count": null,
      "outputs": [
        {
          "output_type": "stream",
          "text": [
            "()\n"
          ],
          "name": "stdout"
        }
      ]
    },
    {
      "cell_type": "code",
      "metadata": {
        "colab": {
          "base_uri": "https://localhost:8080/"
        },
        "id": "JXnnkW1QApkz",
        "outputId": "4f1cd1d9-fbf0-48bf-9fb8-c074c6c83c7f"
      },
      "source": [
        "[num*10 for num in range(1,11)]"
      ],
      "execution_count": null,
      "outputs": [
        {
          "output_type": "execute_result",
          "data": {
            "text/plain": [
              "[10, 20, 30, 40, 50, 60, 70, 80, 90, 100]"
            ]
          },
          "metadata": {
            "tags": []
          },
          "execution_count": 27
        }
      ]
    },
    {
      "cell_type": "code",
      "metadata": {
        "colab": {
          "base_uri": "https://localhost:8080/"
        },
        "id": "jrHFLjBcBp46",
        "outputId": "f6620ee6-6bd4-414c-8ba7-1485d93c4484"
      },
      "source": [
        "[bool(val) for val in [0, 1, [], \" \"]]"
      ],
      "execution_count": null,
      "outputs": [
        {
          "output_type": "execute_result",
          "data": {
            "text/plain": [
              "[False, True, False, True]"
            ]
          },
          "metadata": {
            "tags": []
          },
          "execution_count": 30
        }
      ]
    },
    {
      "cell_type": "code",
      "metadata": {
        "id": "C7cn6TBagzrA"
      },
      "source": [
        "answer = [person[0] for person in [\"Ellie\", \"Tim\", \"Matt\"]]"
      ],
      "execution_count": null,
      "outputs": []
    },
    {
      "cell_type": "code",
      "metadata": {
        "id": "KQ9nESsGiH4u",
        "colab": {
          "base_uri": "https://localhost:8080/"
        },
        "outputId": "7a424ee2-d416-47ef-c559-c7f3b4eaac82"
      },
      "source": [
        "print(answer)"
      ],
      "execution_count": null,
      "outputs": [
        {
          "output_type": "stream",
          "text": [
            "['E', 'T', 'M']\n"
          ],
          "name": "stdout"
        }
      ]
    },
    {
      "cell_type": "code",
      "metadata": {
        "colab": {
          "base_uri": "https://localhost:8080/",
          "height": 126
        },
        "id": "BxBE8-L7hBHl",
        "outputId": "f08a06d7-55f3-41a0-858e-ced0e0785b1b"
      },
      "source": [
        "answer = []\n",
        "for person in [\"Elie\", \"Tim\", \"Matt\"]:\n",
        "    answer.append(person[0])"
      ],
      "execution_count": null,
      "outputs": [
        {
          "output_type": "error",
          "ename": "SyntaxError",
          "evalue": "ignored",
          "traceback": [
            "\u001b[0;36m  File \u001b[0;32m\"<ipython-input-5-79bc459a2464>\"\u001b[0;36m, line \u001b[0;32m3\u001b[0m\n\u001b[0;31m    \u001b[0m\n\u001b[0m    ^\u001b[0m\n\u001b[0;31mSyntaxError\u001b[0m\u001b[0;31m:\u001b[0m unexpected EOF while parsing\n"
          ]
        }
      ]
    },
    {
      "cell_type": "code",
      "metadata": {
        "colab": {
          "base_uri": "https://localhost:8080/"
        },
        "id": "RMr66MD6iGEB",
        "outputId": "86496d90-0b2d-4ad5-d3d6-caf1f2a274fa"
      },
      "source": [
        "pi"
      ],
      "execution_count": null,
      "outputs": [
        {
          "output_type": "stream",
          "text": [
            "['E', 'T', 'M']\n"
          ],
          "name": "stdout"
        }
      ]
    },
    {
      "cell_type": "code",
      "metadata": {
        "id": "Em8pgcj2iI7q"
      },
      "source": [
        "answer2 = [person[-1:0] for person in [\"Ellie\",\"Tim\",\"Matt\"]]"
      ],
      "execution_count": null,
      "outputs": []
    },
    {
      "cell_type": "code",
      "metadata": {
        "colab": {
          "base_uri": "https://localhost:8080/"
        },
        "id": "zMD-mln3iz4r",
        "outputId": "434b594f-6e4d-4ae9-d490-c19bc9228a93"
      },
      "source": [
        "print(answer2)"
      ],
      "execution_count": null,
      "outputs": [
        {
          "output_type": "stream",
          "text": [
            "['e', 'm', 't']\n"
          ],
          "name": "stdout"
        }
      ]
    },
    {
      "cell_type": "code",
      "metadata": {
        "id": "_sMvLmT7i2y5"
      },
      "source": [
        "answer =  [a for a in range(0,101) if a % 12 == 0]"
      ],
      "execution_count": null,
      "outputs": []
    },
    {
      "cell_type": "code",
      "metadata": {
        "colab": {
          "base_uri": "https://localhost:8080/"
        },
        "id": "TK4nnosVjnR7",
        "outputId": "5214b6f0-f910-40d5-88bd-715039b497a3"
      },
      "source": [
        "print(answer)"
      ],
      "execution_count": null,
      "outputs": [
        {
          "output_type": "stream",
          "text": [
            "[0, 12, 24, 36, 48, 60, 72, 84, 96]\n"
          ],
          "name": "stdout"
        }
      ]
    },
    {
      "cell_type": "code",
      "metadata": {
        "colab": {
          "base_uri": "https://localhost:8080/"
        },
        "id": "mp5AOTiyjpq0",
        "outputId": "c7c3ce92-952c-4cf9-d81b-68a6c35f699b"
      },
      "source": [
        "[name for name in \"amazing\" if name not in \"aeiou\"]"
      ],
      "execution_count": null,
      "outputs": [
        {
          "output_type": "execute_result",
          "data": {
            "text/plain": [
              "['m', 'z', 'n', 'g']"
            ]
          },
          "metadata": {
            "tags": []
          },
          "execution_count": 24
        }
      ]
    },
    {
      "cell_type": "code",
      "metadata": {
        "id": "p4VZN_aGlgzs"
      },
      "source": [
        "nested_list = [[1,2,3],[4,5,6],[7,8,9]]"
      ],
      "execution_count": null,
      "outputs": []
    },
    {
      "cell_type": "code",
      "metadata": {
        "colab": {
          "base_uri": "https://localhost:8080/"
        },
        "id": "wi7zvuIz-6kX",
        "outputId": "75e74395-99c0-45a8-d908-e72ccd1b77c9"
      },
      "source": [
        "print(nested_list)"
      ],
      "execution_count": null,
      "outputs": [
        {
          "output_type": "stream",
          "text": [
            "[[1, 2, 3], [4, 5, 6], [7, 8, 9]]\n"
          ],
          "name": "stdout"
        }
      ]
    },
    {
      "cell_type": "code",
      "metadata": {
        "colab": {
          "base_uri": "https://localhost:8080/"
        },
        "id": "Eg2ukWPk_CFa",
        "outputId": "b3de7663-0495-4a7f-8960-bcc79e6ce87b"
      },
      "source": [
        "for e in nested_list:\n",
        "    for val in e:\n",
        "      print(val)"
      ],
      "execution_count": null,
      "outputs": [
        {
          "output_type": "stream",
          "text": [
            "1\n",
            "2\n",
            "3\n",
            "4\n",
            "5\n",
            "6\n",
            "7\n",
            "8\n",
            "9\n"
          ],
          "name": "stdout"
        }
      ]
    },
    {
      "cell_type": "code",
      "metadata": {
        "id": "MUJqELFH_i2d"
      },
      "source": [
        "coords = [[1.423, 9.132], [37.212, -14.098], [21.367, 32.572]]"
      ],
      "execution_count": null,
      "outputs": []
    },
    {
      "cell_type": "code",
      "metadata": {
        "colab": {
          "base_uri": "https://localhost:8080/"
        },
        "id": "1e0_0pQVAShj",
        "outputId": "148268c5-e6f2-4f16-f762-999be846aba7"
      },
      "source": [
        "for loc in coords:\n",
        "  for coord in loc:\n",
        "    print(coord)"
      ],
      "execution_count": null,
      "outputs": [
        {
          "output_type": "stream",
          "text": [
            "1.423\n",
            "9.132\n",
            "37.212\n",
            "-14.098\n",
            "21.367\n",
            "32.572\n"
          ],
          "name": "stdout"
        }
      ]
    },
    {
      "cell_type": "code",
      "metadata": {
        "id": "AyYUau-CAgwi"
      },
      "source": [
        "board = [[num for num in range(1,4)] for val in range(1,4)]"
      ],
      "execution_count": null,
      "outputs": []
    },
    {
      "cell_type": "code",
      "metadata": {
        "colab": {
          "base_uri": "https://localhost:8080/"
        },
        "id": "ooeRMjlyBMgd",
        "outputId": "4efaf969-9cb8-4a6d-ea9a-64e01a38a9f7"
      },
      "source": [
        "print(val)"
      ],
      "execution_count": null,
      "outputs": [
        {
          "output_type": "stream",
          "text": [
            "9\n"
          ],
          "name": "stdout"
        }
      ]
    },
    {
      "cell_type": "code",
      "metadata": {
        "colab": {
          "base_uri": "https://localhost:8080/"
        },
        "id": "qM9SlUfaBPO3",
        "outputId": "bd3d4692-c2da-4d78-d00c-663c7b9bfd8f"
      },
      "source": [
        "[[\"X\" if num % 2 != 0 else \"O\" for num in range(1,4)] for val in range(1,4)]"
      ],
      "execution_count": null,
      "outputs": [
        {
          "output_type": "execute_result",
          "data": {
            "text/plain": [
              "[['X', 'O', 'X'], ['X', 'O', 'X'], ['X', 'O', 'X']]"
            ]
          },
          "metadata": {
            "tags": []
          },
          "execution_count": 25
        }
      ]
    },
    {
      "cell_type": "code",
      "metadata": {
        "id": "32_EoFU-CCEq"
      },
      "source": [
        "kedi = dict(ismi= \"Mirmir\", yas= \"1\")"
      ],
      "execution_count": null,
      "outputs": []
    },
    {
      "cell_type": "code",
      "metadata": {
        "colab": {
          "base_uri": "https://localhost:8080/"
        },
        "id": "wUXexvPUPHHf",
        "outputId": "6c720e56-eccc-42ce-9a14-480e5f54b588"
      },
      "source": [
        "print(kedi)"
      ],
      "execution_count": null,
      "outputs": [
        {
          "output_type": "stream",
          "text": [
            "{'ismi': 'Mirmir', 'yas': '1'}\n"
          ],
          "name": "stdout"
        }
      ]
    },
    {
      "cell_type": "code",
      "metadata": {
        "id": "9kCOMfVNPJcv"
      },
      "source": [
        "cat = {\"name\": \"Volkan\" , \"Yas\": 39, \"Boy\" : 1.80}"
      ],
      "execution_count": null,
      "outputs": []
    },
    {
      "cell_type": "code",
      "metadata": {
        "colab": {
          "base_uri": "https://localhost:8080/"
        },
        "id": "gDi0yOR38RE2",
        "outputId": "8bd63309-6c2a-4655-b1dc-ac02dd4bdb1d"
      },
      "source": [
        "cat"
      ],
      "execution_count": null,
      "outputs": [
        {
          "output_type": "execute_result",
          "data": {
            "text/plain": [
              "{'Boy': 1.8, 'Yas': 39, 'name': 'Volkan'}"
            ]
          },
          "metadata": {
            "tags": []
          },
          "execution_count": 3
        }
      ]
    },
    {
      "cell_type": "code",
      "metadata": {
        "colab": {
          "base_uri": "https://localhost:8080/",
          "height": 35
        },
        "id": "P5pCU28M8Sxj",
        "outputId": "1ba40140-29b0-488a-c75d-9a5210329ee1"
      },
      "source": [
        "cat[\"name\"]"
      ],
      "execution_count": null,
      "outputs": [
        {
          "output_type": "execute_result",
          "data": {
            "application/vnd.google.colaboratory.intrinsic+json": {
              "type": "string"
            },
            "text/plain": [
              "'Volkan'"
            ]
          },
          "metadata": {
            "tags": []
          },
          "execution_count": 5
        }
      ]
    },
    {
      "cell_type": "code",
      "metadata": {
        "id": "sTn46iJs8Z_M"
      },
      "source": [
        "artist = {\"first\":\"Neil\", \"last\":\"Young\"}"
      ],
      "execution_count": null,
      "outputs": []
    },
    {
      "cell_type": "code",
      "metadata": {
        "id": "4gpsbgHG6UW6"
      },
      "source": [
        "full_name = f\"{artist['first']} {artist['last']}\""
      ],
      "execution_count": null,
      "outputs": []
    },
    {
      "cell_type": "code",
      "metadata": {
        "colab": {
          "base_uri": "https://localhost:8080/"
        },
        "id": "AJao6DE26lVm",
        "outputId": "1592c384-d21c-4e1d-e116-016825f8e6a7"
      },
      "source": [
        "print(full_name)"
      ],
      "execution_count": null,
      "outputs": [
        {
          "output_type": "stream",
          "text": [
            "Neil Young\n"
          ],
          "name": "stdout"
        }
      ]
    },
    {
      "cell_type": "code",
      "metadata": {
        "id": "70FI9g_76wGR"
      },
      "source": [
        "instructor = {\"ismi\":\"Volkan\",\"yasi\":38,\"boyu\":1.80}"
      ],
      "execution_count": null,
      "outputs": []
    },
    {
      "cell_type": "code",
      "metadata": {
        "colab": {
          "base_uri": "https://localhost:8080/"
        },
        "id": "0N0rvcGy7ZDH",
        "outputId": "286542d8-85db-4c3f-e346-3fe7bb664054"
      },
      "source": [
        "for key,value in instructor.items():\n",
        "  print(f\" Key is {key}, Value is  {value}\")"
      ],
      "execution_count": null,
      "outputs": [
        {
          "output_type": "stream",
          "text": [
            " Key is ismi, Value is  Volkan\n",
            " Key is yasi, Value is  38\n",
            " Key is boyu, Value is  1.8\n"
          ],
          "name": "stdout"
        }
      ]
    },
    {
      "cell_type": "code",
      "metadata": {
        "colab": {
          "base_uri": "https://localhost:8080/"
        },
        "id": "2EWWZKWb7fVW",
        "outputId": "63035b4f-a595-48b7-dbaa-eacd7fcde79f"
      },
      "source": [
        "\"Volkan\" in instructor"
      ],
      "execution_count": null,
      "outputs": [
        {
          "output_type": "execute_result",
          "data": {
            "text/plain": [
              "False"
            ]
          },
          "metadata": {
            "tags": []
          },
          "execution_count": 23
        }
      ]
    },
    {
      "cell_type": "code",
      "metadata": {
        "id": "DMB9IdaJJxjz"
      },
      "source": [
        "new_user = {}.fromkeys([])\n",
        "new_user = {}.fromkeys(['yas','boy','kilo'], 'Bilinmiyor')"
      ],
      "execution_count": null,
      "outputs": []
    },
    {
      "cell_type": "code",
      "metadata": {
        "id": "czJmcVKgFZnN"
      },
      "source": [
        "d = dict(a=1,b=2,c=3)"
      ],
      "execution_count": null,
      "outputs": []
    },
    {
      "cell_type": "code",
      "metadata": {
        "colab": {
          "base_uri": "https://localhost:8080/"
        },
        "id": "mooWJzskGIO4",
        "outputId": "e8d95b90-1542-4648-c562-03aa7589e86e"
      },
      "source": [
        "d.get('a')"
      ],
      "execution_count": null,
      "outputs": [
        {
          "output_type": "execute_result",
          "data": {
            "text/plain": [
              "1"
            ]
          },
          "metadata": {
            "tags": []
          },
          "execution_count": 8
        }
      ]
    },
    {
      "cell_type": "code",
      "metadata": {
        "colab": {
          "base_uri": "https://localhost:8080/"
        },
        "id": "dnekOpIQGLuF",
        "outputId": "047bb5a3-9dbf-4a65-8bdb-32a350cae6b9"
      },
      "source": [
        "d['a']"
      ],
      "execution_count": null,
      "outputs": [
        {
          "output_type": "execute_result",
          "data": {
            "text/plain": [
              "1"
            ]
          },
          "metadata": {
            "tags": []
          },
          "execution_count": 10
        }
      ]
    },
    {
      "cell_type": "code",
      "metadata": {
        "id": "HEIgQllsGNu3"
      },
      "source": [
        "d = {'a':1,'b':2,'c':3}"
      ],
      "execution_count": null,
      "outputs": []
    },
    {
      "cell_type": "code",
      "metadata": {
        "colab": {
          "base_uri": "https://localhost:8080/"
        },
        "id": "cuUi5t3-Gbia",
        "outputId": "cf6b8fcb-7c03-46eb-8f57-4593d80ae646"
      },
      "source": [
        "d"
      ],
      "execution_count": null,
      "outputs": [
        {
          "output_type": "execute_result",
          "data": {
            "text/plain": [
              "{'a': 1, 'b': 2, 'c': 3}"
            ]
          },
          "metadata": {
            "tags": []
          },
          "execution_count": 12
        }
      ]
    },
    {
      "cell_type": "code",
      "metadata": {
        "colab": {
          "base_uri": "https://localhost:8080/"
        },
        "id": "_ihGEtXDGdnw",
        "outputId": "163f9de6-f872-488e-9cc4-8ab4a5880e3b"
      },
      "source": [
        "d.get('a')"
      ],
      "execution_count": null,
      "outputs": [
        {
          "output_type": "execute_result",
          "data": {
            "text/plain": [
              "1"
            ]
          },
          "metadata": {
            "tags": []
          },
          "execution_count": 13
        }
      ]
    },
    {
      "cell_type": "code",
      "metadata": {
        "colab": {
          "base_uri": "https://localhost:8080/"
        },
        "id": "n6JerNk9GhCc",
        "outputId": "ec26f331-520d-4202-9220-7f9615439a1a"
      },
      "source": [
        "# This code picks a random food item:\n",
        "from random import choice #DON'T CHANGE!\n",
        "food = choice([\"cheese pizza\", \"quiche\",\"morning bun\",\"gummy bear\",\"tea cake\"]) #DON'T CHANGE!\n",
        "\n",
        "#DON'T CHANGE THIS DICTIONARY EITHER!\n",
        "bakery_stock = {\n",
        "    \"almond croissant\" : 12,\n",
        "    \"toffee cookie\": 3,\n",
        "    \"morning bun\": 1,\n",
        "    \"chocolate chunk cookie\": 9,\n",
        "    \"tea cake\": 25\n",
        "}\n",
        "\n",
        "# YOUR CODE GOES BELOW:\n",
        "\n",
        "\n",
        "if food in bakery_stock:\n",
        "  print(\"{} left\".format(bakery_stock[food]))\n",
        "else:\n",
        "  print(\"We dont make that\")"
      ],
      "execution_count": null,
      "outputs": [
        {
          "output_type": "stream",
          "text": [
            "25 left\n"
          ],
          "name": "stdout"
        }
      ]
    },
    {
      "cell_type": "code",
      "metadata": {
        "colab": {
          "base_uri": "https://localhost:8080/"
        },
        "id": "jcRphzo4HvtC",
        "outputId": "e786c04a-d7ef-4e60-9af4-b784e9273f9e"
      },
      "source": [
        "quantity = bakery_stock.get(food)\n",
        "if quantity:\n",
        "  print(\"{} left\".format(quantity))\n",
        "else:\n",
        "  print(\"We dont make that\")"
      ],
      "execution_count": null,
      "outputs": [
        {
          "output_type": "stream",
          "text": [
            "25 left\n"
          ],
          "name": "stdout"
        }
      ]
    },
    {
      "cell_type": "code",
      "metadata": {
        "colab": {
          "base_uri": "https://localhost:8080/"
        },
        "id": "N4dQNR7AIxKl",
        "outputId": "9784fb9f-2e13-4dc4-a233-1abb04677fc4"
      },
      "source": [
        "quantity"
      ],
      "execution_count": null,
      "outputs": [
        {
          "output_type": "execute_result",
          "data": {
            "text/plain": [
              "25"
            ]
          },
          "metadata": {
            "tags": []
          },
          "execution_count": 17
        }
      ]
    },
    {
      "cell_type": "code",
      "metadata": {
        "id": "5tepVZodIyug"
      },
      "source": [
        "instructer = {\"name\":\"Volkan\", \"Yasi\":39,\"hangi ulkeye gidecek\":\"Chzeck\"}"
      ],
      "execution_count": null,
      "outputs": []
    },
    {
      "cell_type": "code",
      "metadata": {
        "colab": {
          "base_uri": "https://localhost:8080/"
        },
        "id": "s9NKv0HpzzCv",
        "outputId": "8503ada8-bc50-4909-c05c-60ecf29b8bdf"
      },
      "source": [
        "instructer"
      ],
      "execution_count": null,
      "outputs": [
        {
          "output_type": "execute_result",
          "data": {
            "text/plain": [
              "{'Yasi': 39, 'hangi ulkeye gidecek': 'Chzeck', 'name': 'Volkan'}"
            ]
          },
          "metadata": {
            "tags": []
          },
          "execution_count": 2
        }
      ]
    },
    {
      "cell_type": "code",
      "metadata": {
        "colab": {
          "base_uri": "https://localhost:8080/",
          "height": 35
        },
        "id": "2NrM4MIpz0dE",
        "outputId": "d68c7da2-aa27-4534-d83e-e3ab0dfcd231"
      },
      "source": [
        "instructer[\"name\"]"
      ],
      "execution_count": null,
      "outputs": [
        {
          "output_type": "execute_result",
          "data": {
            "application/vnd.google.colaboratory.intrinsic+json": {
              "type": "string"
            },
            "text/plain": [
              "'Volkan'"
            ]
          },
          "metadata": {
            "tags": []
          },
          "execution_count": 3
        }
      ]
    },
    {
      "cell_type": "code",
      "metadata": {
        "colab": {
          "base_uri": "https://localhost:8080/"
        },
        "id": "F08Su51-z5gg",
        "outputId": "c9bd80f2-4c9a-44f4-9dc9-e2d14f543dac"
      },
      "source": [
        "instructer.popitem()"
      ],
      "execution_count": null,
      "outputs": [
        {
          "output_type": "execute_result",
          "data": {
            "text/plain": [
              "('hangi ulkeye gidecek', 'Chzeck')"
            ]
          },
          "metadata": {
            "tags": []
          },
          "execution_count": 5
        }
      ]
    },
    {
      "cell_type": "code",
      "metadata": {
        "colab": {
          "base_uri": "https://localhost:8080/"
        },
        "id": "7AWcYlHuz_qR",
        "outputId": "1e923fd6-fa63-4434-9880-1e38223600d9"
      },
      "source": [
        "instructer"
      ],
      "execution_count": null,
      "outputs": [
        {
          "output_type": "execute_result",
          "data": {
            "text/plain": [
              "{'Yasi': 39, 'name': 'Volkan'}"
            ]
          },
          "metadata": {
            "tags": []
          },
          "execution_count": 6
        }
      ]
    },
    {
      "cell_type": "code",
      "metadata": {
        "colab": {
          "base_uri": "https://localhost:8080/"
        },
        "id": "dFLv-Xy90Ebd",
        "outputId": "a42c9815-ae4f-4c99-ec40-8663b2074423"
      },
      "source": [
        "instructer"
      ],
      "execution_count": null,
      "outputs": [
        {
          "output_type": "execute_result",
          "data": {
            "text/plain": [
              "{'Yasi': 39, 'name': 'Volkan'}"
            ]
          },
          "metadata": {
            "tags": []
          },
          "execution_count": 7
        }
      ]
    },
    {
      "cell_type": "code",
      "metadata": {
        "colab": {
          "base_uri": "https://localhost:8080/"
        },
        "id": "Qpfv7zvA0Ghn",
        "outputId": "e9a63a93-5805-4d67-d573-664a54bd3c07"
      },
      "source": [
        "instructer.popitem()"
      ],
      "execution_count": null,
      "outputs": [
        {
          "output_type": "execute_result",
          "data": {
            "text/plain": [
              "('Yasi', 39)"
            ]
          },
          "metadata": {
            "tags": []
          },
          "execution_count": 8
        }
      ]
    },
    {
      "cell_type": "code",
      "metadata": {
        "id": "2bjXTd-I0JT_"
      },
      "source": [
        "instructer = {\"name\":\"Volkan\", \"Yasi\":39,\"hangi ulkeye gidecek\":\"Chzeck\"}"
      ],
      "execution_count": null,
      "outputs": []
    },
    {
      "cell_type": "code",
      "metadata": {
        "colab": {
          "base_uri": "https://localhost:8080/",
          "height": 35
        },
        "id": "OIOLaSig0LNw",
        "outputId": "4082d724-e55e-4611-b06f-475f081f5447"
      },
      "source": [
        "instructer.pop(\"name\")"
      ],
      "execution_count": null,
      "outputs": [
        {
          "output_type": "execute_result",
          "data": {
            "application/vnd.google.colaboratory.intrinsic+json": {
              "type": "string"
            },
            "text/plain": [
              "'Volkan'"
            ]
          },
          "metadata": {
            "tags": []
          },
          "execution_count": 10
        }
      ]
    },
    {
      "cell_type": "code",
      "metadata": {
        "colab": {
          "base_uri": "https://localhost:8080/"
        },
        "id": "SMTD-WE-0PlK",
        "outputId": "9101217a-67c7-45c0-c8ae-8b51fd87a673"
      },
      "source": [
        "instructer"
      ],
      "execution_count": null,
      "outputs": [
        {
          "output_type": "execute_result",
          "data": {
            "text/plain": [
              "{'Yasi': 39, 'hangi ulkeye gidecek': 'Chzeck'}"
            ]
          },
          "metadata": {
            "tags": []
          },
          "execution_count": 11
        }
      ]
    },
    {
      "cell_type": "code",
      "metadata": {
        "id": "x66aHlsX0Rru"
      },
      "source": [
        "instructer = {\"name\":\"Volkan\", \"Yasi\":39,\"hangi ulkeye gidecek\":\"Chzeck\"}"
      ],
      "execution_count": null,
      "outputs": []
    },
    {
      "cell_type": "code",
      "metadata": {
        "id": "edSJNz0e0hbb"
      },
      "source": [
        "ulke = {\"hangi ulke\":\"istanbul\"}"
      ],
      "execution_count": null,
      "outputs": []
    },
    {
      "cell_type": "code",
      "metadata": {
        "id": "rZVVk2eN0szL"
      },
      "source": [
        "ulke.update(instructer)"
      ],
      "execution_count": null,
      "outputs": []
    },
    {
      "cell_type": "code",
      "metadata": {
        "colab": {
          "base_uri": "https://localhost:8080/"
        },
        "id": "ZA3sHFWA0zPo",
        "outputId": "0f2ac61e-c4eb-4433-c7cf-9315473e4fae"
      },
      "source": [
        "ulke"
      ],
      "execution_count": null,
      "outputs": [
        {
          "output_type": "execute_result",
          "data": {
            "text/plain": [
              "{'Yasi': 39,\n",
              " 'hangi ulke': 'istanbul',\n",
              " 'hangi ulkeye gidecek': 'Chzeck',\n",
              " 'name': 'Volkan'}"
            ]
          },
          "metadata": {
            "tags": []
          },
          "execution_count": 15
        }
      ]
    },
    {
      "cell_type": "code",
      "metadata": {
        "id": "Wple-Ury0z5w"
      },
      "source": [
        "ulke[\"Yasi\"] = \"Yasiniz\""
      ],
      "execution_count": null,
      "outputs": []
    },
    {
      "cell_type": "code",
      "metadata": {
        "id": "I5YxM1I71K5P"
      },
      "source": [
        "ulke.update(instructer)"
      ],
      "execution_count": null,
      "outputs": []
    },
    {
      "cell_type": "code",
      "metadata": {
        "colab": {
          "base_uri": "https://localhost:8080/"
        },
        "id": "s8XpBM431MRS",
        "outputId": "c38c0b81-c7f9-43b4-fd12-2034a3d87ea7"
      },
      "source": [
        "ulke"
      ],
      "execution_count": null,
      "outputs": [
        {
          "output_type": "execute_result",
          "data": {
            "text/plain": [
              "{'Yasi': 39,\n",
              " 'hangi ulke': 'istanbul',\n",
              " 'hangi ulkeye gidecek': 'Chzeck',\n",
              " 'name': 'Volkan'}"
            ]
          },
          "metadata": {
            "tags": []
          },
          "execution_count": 20
        }
      ]
    },
    {
      "cell_type": "code",
      "metadata": {
        "id": "YKP4Vteo1XgO"
      },
      "source": [
        "playlist = {'title': 'patagonia bus'\n",
        "        , 'author':'colt steese', \n",
        "           'songs': [\n",
        "                {'title':'song1','artist':['blue1'],'duration': 2.5},\n",
        "                {'title':'song2','artist':['kitty','djcat'],'duration': 5.2},\n",
        "                {'title':'song3','artist':['kediler','mama istiyorlar'],'duration': 3.0}     \n",
        "\n",
        "\n",
        "           ]\n",
        "}\n",
        "\n"
      ],
      "execution_count": null,
      "outputs": []
    },
    {
      "cell_type": "code",
      "metadata": {
        "colab": {
          "base_uri": "https://localhost:8080/"
        },
        "id": "KuKEHmqriM-K",
        "outputId": "29054870-f908-48cb-c04c-239811e52eed"
      },
      "source": [
        "total_length = 0\n",
        "\n",
        "for song in playlist['songs']:\n",
        "  total_length += (song['duration'])\n",
        "  print(total_length)"
      ],
      "execution_count": null,
      "outputs": [
        {
          "output_type": "stream",
          "text": [
            "2.5\n",
            "7.7\n",
            "10.7\n"
          ],
          "name": "stdout"
        }
      ]
    },
    {
      "cell_type": "code",
      "metadata": {
        "id": "L2wtTGlqirwJ"
      },
      "source": [
        "numaralar = dict(birincisi = 1,ikincisi=9,ucuncusu=12)\n",
        "\n",
        "karesi = {ilki:numara**2 for ilki,numara in numaralar.items()}"
      ],
      "execution_count": null,
      "outputs": []
    },
    {
      "cell_type": "code",
      "metadata": {
        "colab": {
          "base_uri": "https://localhost:8080/"
        },
        "id": "w_gwNHmTkRr9",
        "outputId": "8be8394a-7259-4194-c95c-a962cfe1aff2"
      },
      "source": [
        "print(karesi)"
      ],
      "execution_count": null,
      "outputs": [
        {
          "output_type": "stream",
          "text": [
            "{'birincisi': 1, 'ikincisi': 81, 'ucuncusu': 144}\n"
          ],
          "name": "stdout"
        }
      ]
    },
    {
      "cell_type": "code",
      "metadata": {
        "colab": {
          "base_uri": "https://localhost:8080/"
        },
        "id": "6lCUPERPkTlj",
        "outputId": "ce23d989-34b6-4aba-ddf8-d365e5d0ce5d"
      },
      "source": [
        "{num: num**2 for num in [1,2,3,4,5,6] }"
      ],
      "execution_count": null,
      "outputs": [
        {
          "output_type": "execute_result",
          "data": {
            "text/plain": [
              "{1: 1, 2: 4, 3: 9, 4: 16, 5: 25, 6: 36}"
            ]
          },
          "metadata": {
            "tags": []
          },
          "execution_count": 14
        }
      ]
    },
    {
      "cell_type": "code",
      "metadata": {
        "id": "iRTc2q9Cqj96"
      },
      "source": [
        "str1 = \"ABC\"\n",
        "str2 = \"123\"\n",
        "combo = {str1[i]:str2[i] for i in range(0,len(str1))}"
      ],
      "execution_count": null,
      "outputs": []
    },
    {
      "cell_type": "code",
      "metadata": {
        "colab": {
          "base_uri": "https://localhost:8080/"
        },
        "id": "jnrOUg9drO5o",
        "outputId": "f5770631-1fda-476a-dd8f-0b05b9afc061"
      },
      "source": [
        "print(combo)"
      ],
      "execution_count": null,
      "outputs": [
        {
          "output_type": "stream",
          "text": [
            "{'A': '1', 'B': '2', 'C': '3'}\n"
          ],
          "name": "stdout"
        }
      ]
    },
    {
      "cell_type": "code",
      "metadata": {
        "colab": {
          "base_uri": "https://localhost:8080/"
        },
        "id": "eq3KOqBnrRh7",
        "outputId": "ab47ef38-ec94-4909-d7a8-ef7dfb7b1fbf"
      },
      "source": [
        "len(str1)"
      ],
      "execution_count": null,
      "outputs": [
        {
          "output_type": "execute_result",
          "data": {
            "text/plain": [
              "3"
            ]
          },
          "metadata": {
            "tags": []
          },
          "execution_count": 17
        }
      ]
    },
    {
      "cell_type": "code",
      "metadata": {
        "id": "xYobeqvvrjX_"
      },
      "source": [
        "instructer = {'name':'Volkan', 'city':'istanbul','en sevdigi renk':'Mavi'}"
      ],
      "execution_count": null,
      "outputs": []
    },
    {
      "cell_type": "code",
      "metadata": {
        "id": "fUJXIRJ_tz5h"
      },
      "source": [
        "yellimg_instructer = {k.upper()[0]:v.upper()[0] for k,v in instructer.items()}"
      ],
      "execution_count": null,
      "outputs": []
    },
    {
      "cell_type": "code",
      "metadata": {
        "colab": {
          "base_uri": "https://localhost:8080/"
        },
        "id": "OjTd46BouE0p",
        "outputId": "899faa31-17fc-442f-ce70-d6bd62e26f05"
      },
      "source": [
        "yellimg_instructer"
      ],
      "execution_count": null,
      "outputs": [
        {
          "output_type": "execute_result",
          "data": {
            "text/plain": [
              "{'C': 'I', 'E': 'M', 'N': 'V'}"
            ]
          },
          "metadata": {
            "tags": []
          },
          "execution_count": 25
        }
      ]
    },
    {
      "cell_type": "code",
      "metadata": {
        "colab": {
          "base_uri": "https://localhost:8080/"
        },
        "id": "dCOFj7RiuJmM",
        "outputId": "a7c6f3cf-54ac-4da8-f546-6f8713ba890c"
      },
      "source": [
        "num_list = [1,2,3,4]\n",
        "\n",
        "{num : (\"even\" if num % 2 == 0 else \"odd\") for num in range(0,100)}"
      ],
      "execution_count": null,
      "outputs": [
        {
          "output_type": "execute_result",
          "data": {
            "text/plain": [
              "{0: 'even',\n",
              " 1: 'odd',\n",
              " 2: 'even',\n",
              " 3: 'odd',\n",
              " 4: 'even',\n",
              " 5: 'odd',\n",
              " 6: 'even',\n",
              " 7: 'odd',\n",
              " 8: 'even',\n",
              " 9: 'odd',\n",
              " 10: 'even',\n",
              " 11: 'odd',\n",
              " 12: 'even',\n",
              " 13: 'odd',\n",
              " 14: 'even',\n",
              " 15: 'odd',\n",
              " 16: 'even',\n",
              " 17: 'odd',\n",
              " 18: 'even',\n",
              " 19: 'odd',\n",
              " 20: 'even',\n",
              " 21: 'odd',\n",
              " 22: 'even',\n",
              " 23: 'odd',\n",
              " 24: 'even',\n",
              " 25: 'odd',\n",
              " 26: 'even',\n",
              " 27: 'odd',\n",
              " 28: 'even',\n",
              " 29: 'odd',\n",
              " 30: 'even',\n",
              " 31: 'odd',\n",
              " 32: 'even',\n",
              " 33: 'odd',\n",
              " 34: 'even',\n",
              " 35: 'odd',\n",
              " 36: 'even',\n",
              " 37: 'odd',\n",
              " 38: 'even',\n",
              " 39: 'odd',\n",
              " 40: 'even',\n",
              " 41: 'odd',\n",
              " 42: 'even',\n",
              " 43: 'odd',\n",
              " 44: 'even',\n",
              " 45: 'odd',\n",
              " 46: 'even',\n",
              " 47: 'odd',\n",
              " 48: 'even',\n",
              " 49: 'odd',\n",
              " 50: 'even',\n",
              " 51: 'odd',\n",
              " 52: 'even',\n",
              " 53: 'odd',\n",
              " 54: 'even',\n",
              " 55: 'odd',\n",
              " 56: 'even',\n",
              " 57: 'odd',\n",
              " 58: 'even',\n",
              " 59: 'odd',\n",
              " 60: 'even',\n",
              " 61: 'odd',\n",
              " 62: 'even',\n",
              " 63: 'odd',\n",
              " 64: 'even',\n",
              " 65: 'odd',\n",
              " 66: 'even',\n",
              " 67: 'odd',\n",
              " 68: 'even',\n",
              " 69: 'odd',\n",
              " 70: 'even',\n",
              " 71: 'odd',\n",
              " 72: 'even',\n",
              " 73: 'odd',\n",
              " 74: 'even',\n",
              " 75: 'odd',\n",
              " 76: 'even',\n",
              " 77: 'odd',\n",
              " 78: 'even',\n",
              " 79: 'odd',\n",
              " 80: 'even',\n",
              " 81: 'odd',\n",
              " 82: 'even',\n",
              " 83: 'odd',\n",
              " 84: 'even',\n",
              " 85: 'odd',\n",
              " 86: 'even',\n",
              " 87: 'odd',\n",
              " 88: 'even',\n",
              " 89: 'odd',\n",
              " 90: 'even',\n",
              " 91: 'odd',\n",
              " 92: 'even',\n",
              " 93: 'odd',\n",
              " 94: 'even',\n",
              " 95: 'odd',\n",
              " 96: 'even',\n",
              " 97: 'odd',\n",
              " 98: 'even',\n",
              " 99: 'odd'}"
            ]
          },
          "metadata": {
            "tags": []
          },
          "execution_count": 32
        }
      ]
    },
    {
      "cell_type": "code",
      "metadata": {
        "id": "jS9s3xsWuzlS"
      },
      "source": [
        "answer = {count: chr(count) for count in range(65,91)}"
      ],
      "execution_count": null,
      "outputs": []
    },
    {
      "cell_type": "code",
      "metadata": {
        "colab": {
          "base_uri": "https://localhost:8080/"
        },
        "id": "qmfJqzFr1nk5",
        "outputId": "b3bae001-f3b9-4bae-841a-2328b40ab6fd"
      },
      "source": [
        "answer"
      ],
      "execution_count": null,
      "outputs": [
        {
          "output_type": "execute_result",
          "data": {
            "text/plain": [
              "{65: 'A',\n",
              " 66: 'B',\n",
              " 67: 'C',\n",
              " 68: 'D',\n",
              " 69: 'E',\n",
              " 70: 'F',\n",
              " 71: 'G',\n",
              " 72: 'H',\n",
              " 73: 'I',\n",
              " 74: 'J',\n",
              " 75: 'K',\n",
              " 76: 'L',\n",
              " 77: 'M',\n",
              " 78: 'N',\n",
              " 79: 'O',\n",
              " 80: 'P',\n",
              " 81: 'Q',\n",
              " 82: 'R',\n",
              " 83: 'S',\n",
              " 84: 'T',\n",
              " 85: 'U',\n",
              " 86: 'V',\n",
              " 87: 'W',\n",
              " 88: 'X',\n",
              " 89: 'Y',\n",
              " 90: 'Z'}"
            ]
          },
          "metadata": {
            "tags": []
          },
          "execution_count": 2
        }
      ]
    },
    {
      "cell_type": "code",
      "metadata": {
        "colab": {
          "base_uri": "https://localhost:8080/",
          "height": 158
        },
        "id": "8cLSiJ-P1ot_",
        "outputId": "a6fc9c85-d134-4125-d0e7-4f9b47bc5ff5"
      },
      "source": [
        "chr(count)"
      ],
      "execution_count": null,
      "outputs": [
        {
          "output_type": "error",
          "ename": "NameError",
          "evalue": "ignored",
          "traceback": [
            "\u001b[0;31m---------------------------------------------------------------------------\u001b[0m",
            "\u001b[0;31mNameError\u001b[0m                                 Traceback (most recent call last)",
            "\u001b[0;32m<ipython-input-4-3a1dc5553c80>\u001b[0m in \u001b[0;36m<module>\u001b[0;34m()\u001b[0m\n\u001b[0;32m----> 1\u001b[0;31m \u001b[0mchr\u001b[0m\u001b[0;34m(\u001b[0m\u001b[0mcount\u001b[0m\u001b[0;34m)\u001b[0m\u001b[0;34m\u001b[0m\u001b[0;34m\u001b[0m\u001b[0m\n\u001b[0m",
            "\u001b[0;31mNameError\u001b[0m: name 'count' is not defined"
          ]
        }
      ]
    },
    {
      "cell_type": "code",
      "metadata": {
        "id": "j26HCPDG3oZw"
      },
      "source": [
        "isimler = ('Volkan','Aysel','Galip','Esin','Selin')"
      ],
      "execution_count": null,
      "outputs": []
    },
    {
      "cell_type": "code",
      "metadata": {
        "colab": {
          "base_uri": "https://localhost:8080/"
        },
        "id": "Kise65ev5Sws",
        "outputId": "fd55f0d9-ff13-4895-cfa9-291de8648339"
      },
      "source": [
        "for name in isimler:\n",
        "  print(name)"
      ],
      "execution_count": null,
      "outputs": [
        {
          "output_type": "stream",
          "text": [
            "Volkan\n",
            "Aysel\n",
            "Galip\n",
            "Esin\n",
            "Selin\n"
          ],
          "name": "stdout"
        }
      ]
    },
    {
      "cell_type": "code",
      "metadata": {
        "colab": {
          "base_uri": "https://localhost:8080/"
        },
        "id": "3mdljSvy5YJ0",
        "outputId": "25892ed7-64aa-4a7a-a37a-5759123ddd33"
      },
      "source": [
        "isimler\n"
      ],
      "execution_count": null,
      "outputs": [
        {
          "output_type": "execute_result",
          "data": {
            "text/plain": [
              "('Volkan', 'Aysel', 'Galip', 'Esin', 'Selin')"
            ]
          },
          "metadata": {
            "tags": []
          },
          "execution_count": 7
        }
      ]
    },
    {
      "cell_type": "code",
      "metadata": {
        "id": "_vK1L6ov5aOU"
      },
      "source": [
        "  s = set([1,2,3])"
      ],
      "execution_count": null,
      "outputs": []
    },
    {
      "cell_type": "code",
      "metadata": {
        "id": "fcZhpkyG91kI"
      },
      "source": [
        "s.add(4)"
      ],
      "execution_count": null,
      "outputs": []
    },
    {
      "cell_type": "code",
      "metadata": {
        "colab": {
          "base_uri": "https://localhost:8080/"
        },
        "id": "tcz-9Mno925F",
        "outputId": "92fd608e-4abc-4959-e1c5-9e7d1117e498"
      },
      "source": [
        "s"
      ],
      "execution_count": null,
      "outputs": [
        {
          "output_type": "execute_result",
          "data": {
            "text/plain": [
              "{1, 2, 3, 4}"
            ]
          },
          "metadata": {
            "tags": []
          },
          "execution_count": 3
        }
      ]
    },
    {
      "cell_type": "code",
      "metadata": {
        "id": "_p8Z1W0y933j"
      },
      "source": [
        "s.add(6)"
      ],
      "execution_count": null,
      "outputs": []
    },
    {
      "cell_type": "code",
      "metadata": {
        "colab": {
          "base_uri": "https://localhost:8080/"
        },
        "id": "OEwhypHW97xa",
        "outputId": "9a7d112b-b957-49d2-ef27-71af5d772cef"
      },
      "source": [
        "s"
      ],
      "execution_count": null,
      "outputs": [
        {
          "output_type": "execute_result",
          "data": {
            "text/plain": [
              "{1, 2, 3, 4, 6}"
            ]
          },
          "metadata": {
            "tags": []
          },
          "execution_count": 8
        }
      ]
    },
    {
      "cell_type": "code",
      "metadata": {
        "id": "DZUbfrFZ-C1m"
      },
      "source": [
        "math_student = {\"Selin\",\"Volkan\",\"Galip\"}\n",
        "\n",
        "bio_student = {\"Aysel\",\"Volkan\",\"Esin\",\"Selin\"}"
      ],
      "execution_count": null,
      "outputs": []
    },
    {
      "cell_type": "code",
      "metadata": {
        "colab": {
          "base_uri": "https://localhost:8080/"
        },
        "id": "mXiBSfYH-zJM",
        "outputId": "e6639d1e-2062-40ee-f18e-898598146203"
      },
      "source": [
        "math_student | bio_student"
      ],
      "execution_count": null,
      "outputs": [
        {
          "output_type": "execute_result",
          "data": {
            "text/plain": [
              "{'Aysel', 'Esin', 'Galip', 'Selin', 'Volkan'}"
            ]
          },
          "metadata": {
            "tags": []
          },
          "execution_count": 8
        }
      ]
    },
    {
      "cell_type": "code",
      "metadata": {
        "id": "xwisdZgZ_KVy",
        "colab": {
          "base_uri": "https://localhost:8080/"
        },
        "outputId": "0944f05a-096f-4dc2-c95e-db68f449116d"
      },
      "source": [
        "string = \"nasılsınız efendim\"\n",
        "{char for char in string if char in \"neasl\"}"
      ],
      "execution_count": null,
      "outputs": [
        {
          "output_type": "execute_result",
          "data": {
            "text/plain": [
              "{'a', 'e', 'l', 'n', 's'}"
            ]
          },
          "metadata": {
            "tags": []
          },
          "execution_count": 9
        }
      ]
    },
    {
      "cell_type": "code",
      "metadata": {
        "id": "8XtrsfTS21fm"
      },
      "source": [
        " def say_hi ():\n",
        "   print('hi!')"
      ],
      "execution_count": null,
      "outputs": []
    },
    {
      "cell_type": "code",
      "metadata": {
        "colab": {
          "base_uri": "https://localhost:8080/"
        },
        "id": "5r9g6K4FCUoy",
        "outputId": "6612a12f-a1a2-4733-c127-c9d6e8880d5d"
      },
      "source": [
        "say_hi()"
      ],
      "execution_count": null,
      "outputs": [
        {
          "output_type": "stream",
          "text": [
            "hi!\n"
          ],
          "name": "stdout"
        }
      ]
    },
    {
      "cell_type": "code",
      "metadata": {
        "id": "WRjMfmMvCXDI"
      },
      "source": [
        "def sing_happy_birthday():\n",
        "  print(\"Happy birthday to you\")\n",
        "  print(\"Happy birthday to you\")\n",
        "  print(\"Happy birthday dear  Aysel\")\n",
        "  print(\"Happy birthday to you\")"
      ],
      "execution_count": null,
      "outputs": []
    },
    {
      "cell_type": "code",
      "metadata": {
        "colab": {
          "base_uri": "https://localhost:8080/"
        },
        "id": "s5DmsORIDCo_",
        "outputId": "8115eebe-b0fa-4192-b6e4-bce9d51b1f14"
      },
      "source": [
        "sing_happy_birthday()"
      ],
      "execution_count": null,
      "outputs": [
        {
          "output_type": "stream",
          "text": [
            "Happy birthday to you\n",
            "Happy birthday to you\n",
            "Happy birthday dear  Aysel\n",
            "Happy birthday to you\n"
          ],
          "name": "stdout"
        }
      ]
    },
    {
      "cell_type": "code",
      "metadata": {
        "colab": {
          "base_uri": "https://localhost:8080/"
        },
        "id": "jXNB1SaeDE4v",
        "outputId": "86b0d572-14cb-40d7-fe93-b1ae49a24845"
      },
      "source": [
        "def square_of_7():\n",
        "  return 7**2\n",
        "\n",
        "result = square_of_7()\n",
        "print(result)"
      ],
      "execution_count": null,
      "outputs": [
        {
          "output_type": "stream",
          "text": [
            "49\n"
          ],
          "name": "stdout"
        }
      ]
    },
    {
      "cell_type": "code",
      "metadata": {
        "id": "ukS82RioEnJn",
        "colab": {
          "base_uri": "https://localhost:8080/"
        },
        "outputId": "0bf6e41c-5ae1-46a1-8677-aedabe12d52d"
      },
      "source": [
        "from random import random\n",
        "\n",
        "def flip_coin():\n",
        "  if random() > 0.5:\n",
        "    return \"HEADS\"\n",
        "  else :\n",
        "    return \"TAİLS\"\n",
        "\n",
        "print(flip_coin())\n",
        "\n",
        "\n",
        "\n",
        "    "
      ],
      "execution_count": null,
      "outputs": [
        {
          "output_type": "stream",
          "text": [
            "HEADS\n"
          ],
          "name": "stdout"
        }
      ]
    },
    {
      "cell_type": "code",
      "metadata": {
        "colab": {
          "base_uri": "https://localhost:8080/"
        },
        "id": "QNJQv_xbiF8C",
        "outputId": "1b8f289b-28eb-4c78-8587-1f6a353b435e"
      },
      "source": [
        "def square(num):\n",
        "  return num **2\n",
        "\n",
        "print(square(4))\n",
        "print(square(6))"
      ],
      "execution_count": null,
      "outputs": [
        {
          "output_type": "stream",
          "text": [
            "16\n",
            "36\n"
          ],
          "name": "stdout"
        }
      ]
    },
    {
      "cell_type": "code",
      "metadata": {
        "id": "Nmqeh1tTq-4D",
        "colab": {
          "base_uri": "https://localhost:8080/"
        },
        "outputId": "208f6e70-e16f-416a-fd47-a195f3e242cd"
      },
      "source": [
        "def sing_happy_birthday(name):\n",
        "  print(\"Happy birthday to you\")\n",
        "  print(f\"Happy birthday  dear {name}\")\n",
        "  print(\"Happy birthday to you\")\n",
        "sing_happy_birthday('Volkan')"
      ],
      "execution_count": null,
      "outputs": [
        {
          "output_type": "stream",
          "text": [
            "Happy birthday to you\n",
            "Happy birthday  dear Volkan\n",
            "Happy birthday to you\n"
          ],
          "name": "stdout"
        }
      ]
    },
    {
      "cell_type": "code",
      "metadata": {
        "id": "Mep6xqKwvqqX"
      },
      "source": [
        "def print_full_name(first_name,second_name):\n",
        "  return (f\"Your full name is {first_name}{second_name}\")"
      ],
      "execution_count": null,
      "outputs": []
    },
    {
      "cell_type": "code",
      "metadata": {
        "id": "MRocMpZ2T-q0"
      },
      "source": [
        "first_name = \"Volkan \""
      ],
      "execution_count": null,
      "outputs": []
    },
    {
      "cell_type": "code",
      "metadata": {
        "colab": {
          "base_uri": "https://localhost:8080/",
          "height": 35
        },
        "id": "b6JtO-TrUEWx",
        "outputId": "0c10900e-327d-447f-e882-f162f1bd2b7a"
      },
      "source": [
        "def print_full_name(first_name,second_name):\n",
        "  return (f\"Your full name is {first_name} {second_name}\")\n",
        "print_full_name(\"Volkan\", \"Bulbul\")"
      ],
      "execution_count": null,
      "outputs": [
        {
          "output_type": "execute_result",
          "data": {
            "application/vnd.google.colaboratory.intrinsic+json": {
              "type": "string"
            },
            "text/plain": [
              "'Your full name is Volkan Bulbul'"
            ]
          },
          "metadata": {
            "tags": []
          },
          "execution_count": 11
        }
      ]
    },
    {
      "cell_type": "code",
      "metadata": {
        "colab": {
          "base_uri": "https://localhost:8080/"
        },
        "id": "GLOR2srsULDC",
        "outputId": "dc0eb273-2a63-4531-bfbe-944da36b193c"
      },
      "source": [
        "def divide(num1,num2):\n",
        "  return num1/num2\n",
        "print(divide(2,5))\n",
        "print(divide(4,8))"
      ],
      "execution_count": null,
      "outputs": [
        {
          "output_type": "stream",
          "text": [
            "0.4\n",
            "0.5\n"
          ],
          "name": "stdout"
        }
      ]
    },
    {
      "cell_type": "code",
      "metadata": {
        "colab": {
          "base_uri": "https://localhost:8080/",
          "height": 35
        },
        "id": "cykUmn7JVNx-",
        "outputId": "78302912-4a29-436c-83bf-2a17dfb786a4"
      },
      "source": [
        "def yell(word):\n",
        "    return word.upper() + \"!\"\n",
        "\n",
        "yell(\"leave me alone\")"
      ],
      "execution_count": null,
      "outputs": [
        {
          "output_type": "execute_result",
          "data": {
            "application/vnd.google.colaboratory.intrinsic+json": {
              "type": "string"
            },
            "text/plain": [
              "'LEAVE ME ALONE!'"
            ]
          },
          "metadata": {
            "tags": []
          },
          "execution_count": 17
        }
      ]
    },
    {
      "cell_type": "code",
      "metadata": {
        "colab": {
          "base_uri": "https://localhost:8080/"
        },
        "id": "mtnBNhhqVo8e",
        "outputId": "9a246bff-36b1-436a-8876-d19089413824"
      },
      "source": [
        "def sum_odd_number(numbers):\n",
        "  total_number = 0\n",
        "  for num in numbers:\n",
        "    if num % 2 !=0:\n",
        "\n",
        "      total_number += num\n",
        "  return total_number\n",
        "print(sum_odd_number([1,2,3,4,5,6,7]))"
      ],
      "execution_count": null,
      "outputs": [
        {
          "output_type": "stream",
          "text": [
            "16\n"
          ],
          "name": "stdout"
        }
      ]
    },
    {
      "cell_type": "code",
      "metadata": {
        "id": "4oR5HOgmXy26",
        "colab": {
          "base_uri": "https://localhost:8080/"
        },
        "outputId": "b9403abb-2532-4df5-f22c-92729d75568b"
      },
      "source": [
        "def add(a,b):\n",
        "\n",
        "  return a+b\n",
        "def math(a,b,fn=add):\n",
        "  return fn(a,b)\n",
        "def subtract(a,b):\n",
        "  return a-b\n",
        "math(4,4)"
      ],
      "execution_count": null,
      "outputs": [
        {
          "output_type": "execute_result",
          "data": {
            "text/plain": [
              "8"
            ]
          },
          "metadata": {
            "tags": []
          },
          "execution_count": 2
        }
      ]
    },
    {
      "cell_type": "code",
      "metadata": {
        "id": "ccLevLgqiDNQ"
      },
      "source": [
        "x = 3+7"
      ],
      "execution_count": null,
      "outputs": []
    },
    {
      "cell_type": "code",
      "metadata": {
        "colab": {
          "base_uri": "https://localhost:8080/"
        },
        "id": "7cG3AiZLxFt9",
        "outputId": "60cb9892-75cf-4f01-dd5b-c2222e6f91ef"
      },
      "source": [
        "x= 'Volkan '\n",
        "y = '36'\n",
        "print('My name is' ,x ,'and my age is ',y)"
      ],
      "execution_count": null,
      "outputs": [
        {
          "output_type": "stream",
          "name": "stdout",
          "text": [
            "My name is Volkan  and my age is  36\n"
          ]
        }
      ]
    },
    {
      "cell_type": "code",
      "metadata": {
        "id": "Ic757kP_0oM6",
        "colab": {
          "base_uri": "https://localhost:8080/"
        },
        "outputId": "29429355-03df-42a8-ac30-1aac743ef023"
      },
      "source": [
        "print(8/2)"
      ],
      "execution_count": null,
      "outputs": [
        {
          "output_type": "stream",
          "name": "stdout",
          "text": [
            "4.0\n"
          ]
        }
      ]
    },
    {
      "cell_type": "code",
      "metadata": {
        "colab": {
          "base_uri": "https://localhost:8080/"
        },
        "id": "VkDefG_kAAsW",
        "outputId": "ec631603-7b27-4583-98df-a267e517b10a"
      },
      "source": [
        "x = (24 * 2) / 3\n",
        "y = 2.5\n",
        "print(x + (y * 2))"
      ],
      "execution_count": null,
      "outputs": [
        {
          "output_type": "stream",
          "name": "stdout",
          "text": [
            "21.0\n"
          ]
        }
      ]
    },
    {
      "cell_type": "code",
      "metadata": {
        "colab": {
          "base_uri": "https://localhost:8080/"
        },
        "id": "hc6y7OtdAEg0",
        "outputId": "7885f764-bba6-41c9-8299-2f25f7d5c0b4"
      },
      "source": [
        "x = \"John\"\n",
        "print(\"hello\",x)"
      ],
      "execution_count": null,
      "outputs": [
        {
          "output_type": "stream",
          "name": "stdout",
          "text": [
            "hello John\n"
          ]
        }
      ]
    },
    {
      "cell_type": "code",
      "metadata": {
        "colab": {
          "base_uri": "https://localhost:8080/"
        },
        "id": "j5pWXkfQAIkF",
        "outputId": "9ee313ce-98aa-4d47-994e-6fdd9dede04d"
      },
      "source": [
        "x = \"dog\"\n",
        "y = \"cat\"\n",
        "x = 2\n",
        "print(x, y)"
      ],
      "execution_count": null,
      "outputs": [
        {
          "output_type": "stream",
          "name": "stdout",
          "text": [
            "2 cat\n"
          ]
        }
      ]
    },
    {
      "cell_type": "code",
      "metadata": {
        "colab": {
          "base_uri": "https://localhost:8080/",
          "height": 197
        },
        "id": "4EUeWl-AAKvo",
        "outputId": "505d69a1-2ac6-44f6-b1ae-949475566289"
      },
      "source": [
        "A = 20\n",
        "B = A*9\n",
        "C = B/5\n",
        "D = C+32\n",
        "Print(D)"
      ],
      "execution_count": null,
      "outputs": [
        {
          "output_type": "error",
          "ename": "NameError",
          "evalue": "ignored",
          "traceback": [
            "\u001b[0;31m---------------------------------------------------------------------------\u001b[0m",
            "\u001b[0;31mNameError\u001b[0m                                 Traceback (most recent call last)",
            "\u001b[0;32m<ipython-input-9-568d85eb018f>\u001b[0m in \u001b[0;36m<module>\u001b[0;34m()\u001b[0m\n\u001b[1;32m      3\u001b[0m \u001b[0mC\u001b[0m \u001b[0;34m=\u001b[0m \u001b[0mB\u001b[0m\u001b[0;34m/\u001b[0m\u001b[0;36m5\u001b[0m\u001b[0;34m\u001b[0m\u001b[0;34m\u001b[0m\u001b[0m\n\u001b[1;32m      4\u001b[0m \u001b[0mD\u001b[0m \u001b[0;34m=\u001b[0m \u001b[0mC\u001b[0m\u001b[0;34m+\u001b[0m\u001b[0;36m32\u001b[0m\u001b[0;34m\u001b[0m\u001b[0;34m\u001b[0m\u001b[0m\n\u001b[0;32m----> 5\u001b[0;31m \u001b[0mPrint\u001b[0m\u001b[0;34m(\u001b[0m\u001b[0mD\u001b[0m\u001b[0;34m)\u001b[0m\u001b[0;34m\u001b[0m\u001b[0;34m\u001b[0m\u001b[0m\n\u001b[0m",
            "\u001b[0;31mNameError\u001b[0m: name 'Print' is not defined"
          ]
        }
      ]
    },
    {
      "cell_type": "code",
      "metadata": {
        "id": "S6PmJBLwCpfp"
      },
      "source": [
        ""
      ],
      "execution_count": null,
      "outputs": []
    }
  ]
}